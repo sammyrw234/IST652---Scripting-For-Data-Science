{
 "cells": [
  {
   "cell_type": "code",
   "execution_count": 4,
   "metadata": {},
   "outputs": [],
   "source": [
    "#import needed libraries\n",
    "import pkg_resources\n",
    "import numpy as np\n",
    "import joblib"
   ]
  },
  {
   "cell_type": "code",
   "execution_count": 5,
   "metadata": {},
   "outputs": [],
   "source": [
    "#Note: the profanity checker package may not be able to run if not installed onto device\n",
    "#Reference the given outputs or the HTML file if unable to run\n",
    "\n",
    "#for profanity checker\n",
    "vectorizer = joblib.load(\n",
    "    pkg_resources.resource_filename(\"profanity_check\", \"data/vectorizer.joblib\"))"
   ]
  },
  {
   "cell_type": "code",
   "execution_count": 6,
   "metadata": {},
   "outputs": [],
   "source": [
    "#for profanity checker\n",
    "model = joblib.load(\n",
    "    pkg_resources.resource_filename(\"profanity_check\", \"data/model.joblib\")\n",
    ")"
   ]
  },
  {
   "cell_type": "code",
   "execution_count": 7,
   "metadata": {},
   "outputs": [],
   "source": [
    "#functions for profanity checker\n",
    "def _get_profane_prob(prob):\n",
    "    return prob[1]\n",
    "\n",
    "\n",
    "def predict(texts):\n",
    "    \"\"\"Predict texts array\"\"\"\n",
    "    return model.predict(vectorizer.transform(texts))\n",
    "\n",
    "\n",
    "def predict_prob(texts):\n",
    "    \"\"\"Predict texts array returning probabilities\"\"\"\n",
    "    return np.apply_along_axis(\n",
    "        _get_profane_prob, 1, model.predict_proba(vectorizer.transform(texts))\n",
    "    )"
   ]
  },
  {
   "cell_type": "code",
   "execution_count": 8,
   "metadata": {},
   "outputs": [],
   "source": [
    "import nltk\n",
    "from nltk import FreqDist"
   ]
  },
  {
   "cell_type": "code",
   "execution_count": 9,
   "metadata": {},
   "outputs": [],
   "source": [
    "#imports looking for alaska text file\n",
    "file_content_lfa = open(\"looking-for-alaska-converted2.txt\", mode='r', encoding='utf-8').read()"
   ]
  },
  {
   "cell_type": "code",
   "execution_count": 10,
   "metadata": {},
   "outputs": [],
   "source": [
    "#tokenizes looking for alaska\n",
    "textsplit_lfa = nltk.sent_tokenize(file_content_lfa)\n",
    "tokentext_lfa = [nltk.word_tokenize(sent) for sent in textsplit_lfa]"
   ]
  },
  {
   "cell_type": "code",
   "execution_count": 11,
   "metadata": {},
   "outputs": [],
   "source": [
    "#functions which will take a list of lists and convert it into a list\n",
    "def flatten(t):\n",
    "    return [item for sublist in t for item in sublist]"
   ]
  },
  {
   "cell_type": "code",
   "execution_count": 12,
   "metadata": {},
   "outputs": [],
   "source": [
    "#converts the list of lists into one list\n",
    "words_list_lfa = flatten(tokentext_lfa)"
   ]
  },
  {
   "cell_type": "code",
   "execution_count": 13,
   "metadata": {},
   "outputs": [],
   "source": [
    "punc = '''!()-[]{};:'\"\\,<>./?@#$%^&*_~”“’'''\n",
    " \n",
    "# Removing punctuations in string\n",
    "# Using loop + punctuation string\n",
    "for ele in words_list_lfa:\n",
    "    if ele in punc:\n",
    "        words_list_lfa.remove(ele)"
   ]
  },
  {
   "cell_type": "code",
   "execution_count": 14,
   "metadata": {},
   "outputs": [],
   "source": [
    "#imports the fault in our stars text file\n",
    "file_content_tfios = open(\"the-fault-in-our-stars-converted.txt\", mode='r', encoding='utf-8').read()"
   ]
  },
  {
   "cell_type": "code",
   "execution_count": 15,
   "metadata": {},
   "outputs": [],
   "source": [
    "#tokenizes the fault in our stars\n",
    "textsplit_tfios = nltk.sent_tokenize(file_content_tfios)\n",
    "tokentext_tfios = [nltk.word_tokenize(sent) for sent in textsplit_tfios]"
   ]
  },
  {
   "cell_type": "code",
   "execution_count": 16,
   "metadata": {},
   "outputs": [],
   "source": [
    "#flatteds the list of list into one list\n",
    "words_list_tfios = flatten(tokentext_tfios)"
   ]
  },
  {
   "cell_type": "code",
   "execution_count": 17,
   "metadata": {},
   "outputs": [],
   "source": [
    "#removes all punctuations\n",
    "for ele in words_list_tfios:\n",
    "    if ele in punc:\n",
    "        words_list_tfios.remove(ele)"
   ]
  },
  {
   "cell_type": "code",
   "execution_count": 18,
   "metadata": {},
   "outputs": [
    {
     "data": {
      "text/plain": [
       "78874"
      ]
     },
     "execution_count": 18,
     "metadata": {},
     "output_type": "execute_result"
    }
   ],
   "source": [
    "#number of words in looking for alaska\n",
    "len(words_list_lfa)"
   ]
  },
  {
   "cell_type": "code",
   "execution_count": 19,
   "metadata": {},
   "outputs": [
    {
     "data": {
      "text/plain": [
       "71720"
      ]
     },
     "execution_count": 19,
     "metadata": {},
     "output_type": "execute_result"
    }
   ],
   "source": [
    "#number of words in the fault in our stars\n",
    "len(words_list_tfios)"
   ]
  },
  {
   "cell_type": "code",
   "execution_count": 20,
   "metadata": {},
   "outputs": [
    {
     "data": {
      "text/plain": [
       "863"
      ]
     },
     "execution_count": 20,
     "metadata": {},
     "output_type": "execute_result"
    }
   ],
   "source": [
    "#number of possibily offensive words for looking for alaska\n",
    "sum(predict(words_list_lfa))"
   ]
  },
  {
   "cell_type": "code",
   "execution_count": 21,
   "metadata": {},
   "outputs": [
    {
     "data": {
      "text/plain": [
       "1034"
      ]
     },
     "execution_count": 21,
     "metadata": {},
     "output_type": "execute_result"
    }
   ],
   "source": [
    "#number of offensive words for the fault in our stars\n",
    "sum(predict(words_list_tfios))"
   ]
  },
  {
   "cell_type": "code",
   "execution_count": 22,
   "metadata": {},
   "outputs": [
    {
     "data": {
      "text/plain": [
       "0.06257085630985301"
      ]
     },
     "execution_count": 22,
     "metadata": {},
     "output_type": "execute_result"
    }
   ],
   "source": [
    "#average probability a given word would be considered offensive for looking for alaska\n",
    "sum(predict_prob(words_list_lfa))/len(words_list_lfa)"
   ]
  },
  {
   "cell_type": "code",
   "execution_count": 23,
   "metadata": {},
   "outputs": [
    {
     "data": {
      "text/plain": [
       "0.06349811000534476"
      ]
     },
     "execution_count": 23,
     "metadata": {},
     "output_type": "execute_result"
    }
   ],
   "source": [
    "#average probability a given word would be considered offensive for the fault in our stars\n",
    "sum(predict_prob(words_list_tfios))/len(words_list_tfios)"
   ]
  },
  {
   "cell_type": "code",
   "execution_count": 24,
   "metadata": {},
   "outputs": [
    {
     "data": {
      "text/plain": [
       "0.011243860174846586"
      ]
     },
     "execution_count": 24,
     "metadata": {},
     "output_type": "execute_result"
    }
   ],
   "source": [
    "#percent offensive words for looking for alaska\n",
    "863/76753"
   ]
  },
  {
   "cell_type": "code",
   "execution_count": 25,
   "metadata": {},
   "outputs": [
    {
     "data": {
      "text/plain": [
       "0.01441717791411043"
      ]
     },
     "execution_count": 25,
     "metadata": {},
     "output_type": "execute_result"
    }
   ],
   "source": [
    "#percent offensive words for the fault in our stars\n",
    "1034/71720"
   ]
  },
  {
   "cell_type": "code",
   "execution_count": 26,
   "metadata": {},
   "outputs": [],
   "source": [
    "nltkstopwords = nltk.corpus.stopwords.words('english')"
   ]
  },
  {
   "cell_type": "code",
   "execution_count": 27,
   "metadata": {},
   "outputs": [],
   "source": [
    "morestopwords = ['could','would','might','must','need','sha','wo','y',\"'s\",\"'d\",\"'ll\",\"'t\",\"'m\",\"'re\",\"'ve\"]\n",
    "stopwords = nltkstopwords + morestopwords"
   ]
  },
  {
   "cell_type": "code",
   "execution_count": 28,
   "metadata": {},
   "outputs": [],
   "source": [
    "import re\n",
    "# this regular expression pattern matches any word that contains all non-alphabetical\n",
    "#   lower-case characters [^a-z]+\n",
    "# the beginning ^ and ending $ require the match to begin and end on a word boundary \n",
    "pattern = re.compile('^[^a-z]+$')\n",
    "nonAlphaMatch = pattern.match('**')\n",
    "\n",
    "#  if it matched, print a message\n",
    "if nonAlphaMatch: 'matched non-alphabetical'\n",
    "def alpha_filter(w):\n",
    "  # pattern to match a word of non-alphabetical characters\n",
    "    pattern = re.compile('^[^a-z]+$')\n",
    "    if (pattern.match(w)):\n",
    "        return True\n",
    "    else:\n",
    "        return False"
   ]
  },
  {
   "cell_type": "code",
   "execution_count": 29,
   "metadata": {},
   "outputs": [],
   "source": [
    "#converts all words into lowercase\n",
    "lfa_words = [w.lower( ) for w in words_list_lfa]\n",
    "tfios_words = [w.lower( ) for w in words_list_tfios]"
   ]
  },
  {
   "cell_type": "code",
   "execution_count": 30,
   "metadata": {},
   "outputs": [],
   "source": [
    "#removes the non-alpha words\n",
    "alphawords_lfa = [w for w in lfa_words if not alpha_filter(w)]\n",
    "alphawords_tfios = [w for w in tfios_words if not alpha_filter(w)]"
   ]
  },
  {
   "cell_type": "code",
   "execution_count": 31,
   "metadata": {},
   "outputs": [],
   "source": [
    "#removes all the stopwords\n",
    "stoppedwords_lfa = [w for w in alphawords_lfa if not w in stopwords]\n",
    "stoppedwords_tfios = [w for w in alphawords_tfios if not w in stopwords]"
   ]
  },
  {
   "cell_type": "code",
   "execution_count": 32,
   "metadata": {},
   "outputs": [
    {
     "name": "stdout",
     "output_type": "stream",
     "text": [
      "('said', 665)\n",
      "('colonel', 507)\n",
      "('alaska', 338)\n",
      "('like', 326)\n",
      "('one', 226)\n",
      "('know', 222)\n",
      "('takumi', 203)\n",
      "('us', 171)\n",
      "('back', 160)\n",
      "('asked', 157)\n",
      "('got', 148)\n",
      "('never', 142)\n",
      "('get', 140)\n",
      "('room', 134)\n",
      "('last', 130)\n",
      "('eagle', 128)\n",
      "('thought', 127)\n",
      "('even', 124)\n",
      "('time', 123)\n",
      "('going', 121)\n",
      "('go', 117)\n",
      "('think', 114)\n",
      "('walked', 110)\n",
      "('well', 109)\n",
      "('day', 109)\n",
      "('pudge', 106)\n",
      "('lara', 105)\n",
      "('right', 100)\n",
      "('sat', 100)\n",
      "('still', 99)\n",
      "('felt', 95)\n",
      "('looked', 94)\n",
      "('yeah', 92)\n",
      "('way', 92)\n",
      "('told', 91)\n",
      "('want', 90)\n",
      "('much', 89)\n",
      "('first', 88)\n",
      "('see', 86)\n",
      "('creek', 85)\n",
      "('people', 83)\n",
      "('school', 81)\n",
      "('two', 80)\n",
      "('good', 78)\n",
      "('words', 78)\n",
      "('say', 77)\n",
      "('something', 77)\n",
      "('god', 77)\n",
      "('head', 76)\n",
      "('really', 75)\n"
     ]
    }
   ],
   "source": [
    "#top 50 words and frequency in looking for alaksa\n",
    "lfa_dist = FreqDist(stoppedwords_lfa)\n",
    "lfa_items = lfa_dist.most_common(50)\n",
    "for item in lfa_items:\n",
    "  print(item)"
   ]
  },
  {
   "cell_type": "code",
   "execution_count": 33,
   "metadata": {},
   "outputs": [
    {
     "name": "stdout",
     "output_type": "stream",
     "text": [
      "('said', 901)\n",
      "('augustus', 338)\n",
      "('like', 330)\n",
      "('mom', 249)\n",
      "('gus', 209)\n",
      "('asked', 182)\n",
      "('isaac', 168)\n",
      "('know', 165)\n",
      "('one', 163)\n",
      "('hazel', 153)\n",
      "('us', 139)\n",
      "('back', 138)\n",
      "('get', 136)\n",
      "('dad', 131)\n",
      "('okay', 129)\n",
      "('go', 121)\n",
      "('got', 118)\n",
      "('van', 118)\n",
      "('really', 117)\n",
      "('want', 116)\n",
      "('time', 111)\n",
      "('even', 111)\n",
      "('houten', 109)\n",
      "('see', 105)\n",
      "('people', 102)\n",
      "('cancer', 99)\n",
      "('still', 97)\n",
      "('something', 94)\n",
      "('took', 92)\n",
      "('little', 91)\n",
      "('around', 90)\n",
      "('told', 84)\n",
      "('good', 84)\n",
      "('felt', 83)\n",
      "('never', 82)\n",
      "('way', 81)\n",
      "('room', 80)\n",
      "('going', 80)\n",
      "('yeah', 80)\n",
      "('love', 78)\n",
      "('right', 75)\n",
      "('think', 75)\n",
      "('made', 75)\n",
      "('peter', 74)\n",
      "('thing', 73)\n",
      "('waters', 72)\n",
      "('kind', 71)\n",
      "('looked', 71)\n",
      "('hand', 71)\n",
      "('say', 70)\n"
     ]
    }
   ],
   "source": [
    "#top 50 words in the fault in our stars\n",
    "tfios_dist = FreqDist(stoppedwords_tfios)\n",
    "tfios_items = tfios_dist.most_common(50)\n",
    "for item in tfios_items:\n",
    "  print(item)"
   ]
  },
  {
   "cell_type": "code",
   "execution_count": 34,
   "metadata": {},
   "outputs": [],
   "source": [
    "from wordcloud import WordCloud\n",
    "import matplotlib.pyplot as plt"
   ]
  },
  {
   "cell_type": "code",
   "execution_count": 35,
   "metadata": {},
   "outputs": [
    {
     "data": {
      "image/png": "[encoded data removed]",
      "text/plain": [
       "<Figure size 432x288 with 1 Axes>"
      ]
     },
     "metadata": {
      "needs_background": "light"
     },
     "output_type": "display_data"
    }
   ],
   "source": [
    "wcloudLFA = WordCloud().generate_from_frequencies(lfa_dist)\n",
    " \n",
    "# Plotting the wordcloud\n",
    "plt.imshow(wcloudLFA, interpolation=\"bilinear\")\n",
    " \n",
    "plt.axis(\"off\")\n",
    "(-0.5, 399.5, 199.5, -0.5)\n",
    "plt.show()"
   ]
  },
  {
   "cell_type": "code",
   "execution_count": 36,
   "metadata": {},
   "outputs": [
    {
     "data": {
      "image/png": "[encoded data removed]",
      "text/plain": [
       "<Figure size 432x288 with 1 Axes>"
      ]
     },
     "metadata": {
      "needs_background": "light"
     },
     "output_type": "display_data"
    }
   ],
   "source": [
    "wcloudTFIOS = WordCloud().generate_from_frequencies(tfios_dist)\n",
    " \n",
    "# Plotting the wordcloud\n",
    "plt.imshow(wcloudTFIOS, interpolation=\"bilinear\")\n",
    " \n",
    "plt.axis(\"off\")\n",
    "(-0.5, 399.5, 199.5, -0.5)\n",
    "plt.show()"
   ]
  },
  {
   "cell_type": "markdown",
   "metadata": {},
   "source": [
    "### Lets create a model to predict whether a word is considered profanity or not. Additionally, lets take a look at sentiment to better understand how negative these books really are."
   ]
  },
  {
   "cell_type": "code",
   "execution_count": 31,
   "metadata": {},
   "outputs": [
    {
     "name": "stderr",
     "output_type": "stream",
     "text": [
      "/var/folders/w0/3jsxv1cs5_d2k2zsqqxw6_jw0000gn/T/ipykernel_77359/625368035.py:7: DeprecationWarning: 'U' mode is deprecated\n",
      "  with open('Offensive_words_lfa.csv', 'rU') as csvfile:\n"
     ]
    }
   ],
   "source": [
    "import random\n",
    "import csv\n",
    "\n",
    "#importing a list of all profanity words in looking for alaska\n",
    "lfa_profanity = []\n",
    "\n",
    "with open('Offensive_words_lfa.csv', 'rU') as csvfile:\n",
    "    ALReader = csv.reader(csvfile, delimiter=',')\n",
    "    for p in ALReader:\n",
    "        word = p[0]\n",
    "        lfa_profanity.append(word)\n",
    "        \n"
   ]
  },
  {
   "cell_type": "code",
   "execution_count": 32,
   "metadata": {},
   "outputs": [
    {
     "name": "stderr",
     "output_type": "stream",
     "text": [
      "/var/folders/w0/3jsxv1cs5_d2k2zsqqxw6_jw0000gn/T/ipykernel_77359/611529530.py:3: DeprecationWarning: 'U' mode is deprecated\n",
      "  with open('Offensive_words_tfios.csv', 'rU') as csvfile:\n"
     ]
    }
   ],
   "source": [
    "tfios_profanity = []\n",
    "\n",
    "with open('Offensive_words_tfios.csv', 'rU') as csvfile:\n",
    "    ALReader = csv.reader(csvfile, delimiter=',')\n",
    "    for p in ALReader:\n",
    "        word = p[0]\n",
    "        tfios_profanity.append(word)"
   ]
  },
  {
   "cell_type": "code",
   "execution_count": 33,
   "metadata": {},
   "outputs": [
    {
     "name": "stdout",
     "output_type": "stream",
     "text": [
      "['sits', 'useless', 'Dare', 'kill', 'badass', 'piss', 'mental', 'whitey', 'shoot', 'porn']\n"
     ]
    }
   ],
   "source": [
    "#create one giant list of \"profanity\" words\n",
    "profanity = []\n",
    "\n",
    "for word in lfa_profanity:\n",
    "    profanity.append(word)\n",
    "\n",
    "for word in tfios_profanity:\n",
    "    profanity.append(word)\n",
    "\n",
    "#print the first 10 profanity words\n",
    "print(profanity[:10])"
   ]
  },
  {
   "cell_type": "code",
   "execution_count": 34,
   "metadata": {},
   "outputs": [
    {
     "name": "stdout",
     "output_type": "stream",
     "text": [
      "('mom', 74)\n",
      "('shit', 41)\n",
      "('mouth', 37)\n",
      "('die', 32)\n",
      "('white', 32)\n",
      "('hell', 31)\n",
      "('hate', 21)\n",
      "('pissed', 21)\n",
      "('stupid', 19)\n",
      "('worst', 19)\n",
      "('ass', 16)\n",
      "('damn', 16)\n",
      "('hole', 16)\n",
      "('wet', 15)\n",
      "('sex', 15)\n",
      "('smell', 12)\n",
      "('knees', 12)\n",
      "('rat', 11)\n",
      "('fuck', 11)\n",
      "('drove', 11)\n",
      "('killed', 10)\n",
      "('blow', 10)\n",
      "('naked', 9)\n",
      "('eat', 9)\n",
      "('porn', 9)\n",
      "('shut', 9)\n",
      "('throat', 8)\n",
      "('kill', 8)\n",
      "('butt', 8)\n",
      "('bitch', 8)\n",
      "('dumb', 8)\n",
      "('fucking', 8)\n",
      "('bunch', 7)\n",
      "('ridiculous', 7)\n",
      "('die.', 7)\n",
      "('lame', 7)\n",
      "('shit.', 6)\n",
      "('screw', 6)\n",
      "('spit', 6)\n",
      "('fucked', 6)\n",
      "('asshole', 5)\n",
      "('suck', 5)\n",
      "('penis', 5)\n",
      "('puke', 5)\n",
      "('fat', 4)\n",
      "('assholes', 4)\n",
      "('sucked', 4)\n",
      "('silly', 4)\n",
      "('piss', 4)\n",
      "('goddamn', 4)\n"
     ]
    }
   ],
   "source": [
    "#creating a frequency distribution of just the profanity keywords in each corpus\n",
    "\n",
    "#looking for alaska\n",
    "lfa_prof = []\n",
    "for word in stoppedwords_lfa:\n",
    "    if word in profanity:\n",
    "        lfa_prof.append(word)\n",
    "                \n",
    "lfa_prof_dist = FreqDist(lfa_prof)\n",
    "lfa_prof_items = lfa_prof_dist.most_common(50)\n",
    "for item in lfa_prof_items:\n",
    "  print(item)"
   ]
  },
  {
   "cell_type": "code",
   "execution_count": 35,
   "metadata": {},
   "outputs": [
    {
     "name": "stdout",
     "output_type": "stream",
     "text": [
      "('mom', 249)\n",
      "('cancer', 99)\n",
      "('die', 32)\n",
      "('drove', 27)\n",
      "('mouth', 26)\n",
      "('sick', 18)\n",
      "('brain', 16)\n",
      "('kill', 15)\n",
      "('stupid', 15)\n",
      "('eat', 14)\n",
      "('basement', 11)\n",
      "('shut', 11)\n",
      "('hate', 11)\n",
      "('hell', 10)\n",
      "('white', 10)\n",
      "('smell', 10)\n",
      "('bullshit', 10)\n",
      "('dumb', 10)\n",
      "('freaking', 9)\n",
      "('butt', 9)\n",
      "('clouds', 7)\n",
      "('suck', 6)\n",
      "('shit', 6)\n",
      "('bunch', 6)\n",
      "('pissed', 6)\n",
      "('balls', 5)\n",
      "('sucked', 5)\n",
      "('worst', 5)\n",
      "('throat', 5)\n",
      "('sucks', 5)\n",
      "('crap', 5)\n",
      "('ugly', 5)\n",
      "('horrible', 5)\n",
      "('ridiculous', 5)\n",
      "('fat', 4)\n",
      "('goddamn', 4)\n",
      "('pretentious', 4)\n",
      "('pathetic', 4)\n",
      "('frankly', 4)\n",
      "('mom.', 4)\n",
      "('grow', 4)\n",
      "('piss', 4)\n",
      "('bastard', 4)\n",
      "('misery', 3)\n",
      "('lazy', 3)\n",
      "('cancer.', 3)\n",
      "('silly', 3)\n",
      "('evil', 3)\n",
      "('puke', 3)\n",
      "('sucks.', 3)\n"
     ]
    }
   ],
   "source": [
    "#the fault in our stars\n",
    "tfios_prof = []\n",
    "for word in stoppedwords_tfios:\n",
    "    if word in profanity:\n",
    "        tfios_prof.append(word)\n",
    "                \n",
    "tfios_prof_dist = FreqDist(tfios_prof)\n",
    "tfios_prof_items = tfios_prof_dist.most_common(50)\n",
    "for item in tfios_prof_items:\n",
    "  print(item)"
   ]
  },
  {
   "cell_type": "code",
   "execution_count": 36,
   "metadata": {},
   "outputs": [],
   "source": [
    "#using the 50 most common words, and the 50 most common profanity words, we will create a bag of words to use as features \n",
    "#(removing duplicates)\n",
    "\n",
    "#combine the two items for looking for alaska\n",
    "lfa_bows = []\n",
    "for word in lfa_items:\n",
    "    lfa_bows.append(word)\n",
    "\n",
    "for word in lfa_prof_items:\n",
    "    if word in lfa_bows:\n",
    "        continue\n",
    "    else:\n",
    "        lfa_bows.append(word)\n",
    "          \n",
    "lfa_word_features = [word for (word, freq) in lfa_bows]\n",
    "\n",
    "#combine the two items for the fault in our stars\n",
    "tfios_bows = []\n",
    "for word in tfios_items:\n",
    "    tfios_bows.append(word)\n",
    "\n",
    "for word in tfios_prof_items:\n",
    "    if word in tfios_bows:\n",
    "        continue\n",
    "    else:\n",
    "        tfios_bows.append(word)\n",
    "          \n",
    "tfios_word_features = [word for (word, freq) in tfios_bows]\n",
    "\n",
    "#add the features together\n",
    "word_features = []\n",
    "for word in lfa_word_features:\n",
    "    word_features.append(word)\n",
    "for word in tfios_word_features:\n",
    "    if word in word_features:\n",
    "        continue\n",
    "    else:\n",
    "        word_features.append(word)"
   ]
  },
  {
   "cell_type": "code",
   "execution_count": 37,
   "metadata": {},
   "outputs": [],
   "source": [
    "#label each word in each corpus with either 'prof' for profanity or 'not' for not profanity add create a giant document \n",
    "#combining both books \n",
    "#we will use this to train the naive bayes\n",
    "\n",
    "#LFA\n",
    "documents = []\n",
    "for word in words_list_lfa:\n",
    "    if word in profanity:\n",
    "        documents.append((word, 'prof'))\n",
    "    else:\n",
    "        documents.append((word, 'not'))\n",
    "\n",
    "#TFIOS  \n",
    "for word in words_list_tfios:\n",
    "    if word in profanity:\n",
    "        documents.append((word, 'prof'))\n",
    "    else:\n",
    "        documents.append((word, 'not'))"
   ]
  },
  {
   "cell_type": "code",
   "execution_count": 38,
   "metadata": {},
   "outputs": [
    {
     "data": {
      "text/plain": [
       "150594"
      ]
     },
     "execution_count": 38,
     "metadata": {},
     "output_type": "execute_result"
    }
   ],
   "source": [
    "#create the document features where the value of the feature is a Boolean according to if the word is contained in the document\n",
    "\n",
    "def document_features(document, word_features):\n",
    "    document_words = set(document)\n",
    "    features = {}\n",
    "    for word in word_features:\n",
    "        features['V_{}'.format(word)] = (word in document_words)\n",
    "    return features\n",
    "\n",
    "random.shuffle(documents)\n",
    "\n",
    "#define the featuresets\n",
    "featuresets = [(document_features(d, word_features),c) for (d,c) in documents]\n",
    "len(featuresets)\n"
   ]
  },
  {
   "cell_type": "code",
   "execution_count": 39,
   "metadata": {},
   "outputs": [],
   "source": [
    "#do a 90% 10% train test split\n",
    "import math\n",
    "train_number = math.floor(len(featuresets)*.9)\n",
    "\n",
    "train_set, test_set = featuresets[train_number:], featuresets[:train_number]"
   ]
  },
  {
   "cell_type": "code",
   "execution_count": 40,
   "metadata": {},
   "outputs": [
    {
     "name": "stdout",
     "output_type": "stream",
     "text": [
      "0.9874570218542948\n"
     ]
    }
   ],
   "source": [
    "#run the naive bayes and predict accuracy on test set\n",
    "classifier = nltk.NaiveBayesClassifier.train(train_set)\n",
    "print(nltk.classify.accuracy(classifier, test_set))"
   ]
  },
  {
   "cell_type": "markdown",
   "metadata": {},
   "source": [
    "### Here we can see the accuracy was around 0.9886. It seems to be because there are so few profanity words that every word in the corpus is being marked as \"not profanity\""
   ]
  },
  {
   "cell_type": "markdown",
   "metadata": {},
   "source": [
    "### We will now use the built in nltk sentiment intensity analyzer to predict the sentiment of the books. "
   ]
  },
  {
   "cell_type": "code",
   "execution_count": 41,
   "metadata": {},
   "outputs": [
    {
     "name": "stderr",
     "output_type": "stream",
     "text": [
      "[nltk_data] Downloading package vader_lexicon to\n",
      "[nltk_data]     /Users/nataliauruska/nltk_data...\n",
      "[nltk_data]   Package vader_lexicon is already up-to-date!\n"
     ]
    }
   ],
   "source": [
    "nltk.download('vader_lexicon')\n",
    "from nltk.sentiment import SentimentIntensityAnalyzer\n",
    "sia = SentimentIntensityAnalyzer()"
   ]
  },
  {
   "cell_type": "code",
   "execution_count": 42,
   "metadata": {},
   "outputs": [
    {
     "data": {
      "text/plain": [
       "{'neg': 0.092, 'neu': 0.794, 'pos': 0.114, 'compound': 1.0}"
      ]
     },
     "execution_count": 42,
     "metadata": {},
     "output_type": "execute_result"
    }
   ],
   "source": [
    "#get the sentiment polarity of looking for alaska\n",
    "sia.polarity_scores(file_content_lfa)"
   ]
  },
  {
   "cell_type": "code",
   "execution_count": 43,
   "metadata": {},
   "outputs": [
    {
     "data": {
      "text/plain": [
       "{'neg': 0.092, 'neu': 0.779, 'pos': 0.129, 'compound': 1.0}"
      ]
     },
     "execution_count": 43,
     "metadata": {},
     "output_type": "execute_result"
    }
   ],
   "source": [
    "#get the sentiment polarity of the fault in our stars\n",
    "sia.polarity_scores(file_content_tfios)"
   ]
  },
  {
   "cell_type": "code",
   "execution_count": 49,
   "metadata": {},
   "outputs": [],
   "source": [
    "#label each word in the corpus pos neu or neg\n",
    "lfa_sent_corpus = []\n",
    "for word in stoppedwords_lfa:\n",
    "    d = sia.polarity_scores(word)\n",
    "    if d['neg'] == 1:\n",
    "        lfa_sent_corpus.append((word, 'neg'))\n",
    "    if d['pos'] == 1:\n",
    "        lfa_sent_corpus.append((word, 'pos'))\n",
    "    if d['neu'] == 1:\n",
    "        lfa_sent_corpus.append((word, 'neu'))\n",
    "    \n",
    "tfios_sent_corpus = []\n",
    "for word in stoppedwords_tfios:\n",
    "    d = sia.polarity_scores(word)\n",
    "    if d['neg'] == 1:\n",
    "        tfios_sent_corpus.append((word, 'neg'))\n",
    "    if d['pos'] == 1:\n",
    "        tfios_sent_corpus.append((word, 'pos'))\n",
    "    if d['neu'] == 1:\n",
    "        tfios_sent_corpus.append((word, 'neu'))"
   ]
  },
  {
   "cell_type": "code",
   "execution_count": 50,
   "metadata": {},
   "outputs": [],
   "source": [
    "#combine the corpus\n",
    "documents_sent = []\n",
    "for line in lfa_sent_corpus:\n",
    "    documents_sent.append(line)\n",
    "for line in tfios_sent_corpus:\n",
    "    documents_sent.append(line)"
   ]
  },
  {
   "cell_type": "code",
   "execution_count": 51,
   "metadata": {},
   "outputs": [
    {
     "data": {
      "text/plain": [
       "67354"
      ]
     },
     "execution_count": 51,
     "metadata": {},
     "output_type": "execute_result"
    }
   ],
   "source": [
    "#define the featuresets\n",
    "random.shuffle(documents_sent)\n",
    "featuresets_sent = [(document_features(d, word_features),c) for (d,c) in documents_sent]\n",
    "len(featuresets_sent)"
   ]
  },
  {
   "cell_type": "code",
   "execution_count": 52,
   "metadata": {},
   "outputs": [],
   "source": [
    "#do a 90% 10% train test split\n",
    "import math\n",
    "train_number_sent = math.floor(len(featuresets_sent)*.9)\n",
    "\n",
    "train_set_sent, test_set_sent = featuresets_sent[train_number_sent:], featuresets_sent[:train_number_sent]"
   ]
  },
  {
   "cell_type": "code",
   "execution_count": 53,
   "metadata": {},
   "outputs": [
    {
     "name": "stdout",
     "output_type": "stream",
     "text": [
      "0.8441881949255997\n"
     ]
    }
   ],
   "source": [
    "#run the naive bayes and predict accuracy on test set\n",
    "classifier_sent = nltk.NaiveBayesClassifier.train(train_set_sent)\n",
    "print(nltk.classify.accuracy(classifier_sent, test_set_sent))"
   ]
  },
  {
   "cell_type": "markdown",
   "metadata": {},
   "source": [
    "### Here we can see the accuracy was around 0.84. This may differ depending on randomization. "
   ]
  },
  {
   "cell_type": "code",
   "execution_count": 54,
   "metadata": {},
   "outputs": [
    {
     "name": "stdout",
     "output_type": "stream",
     "text": [
      "number of predicted positive: 0 \n",
      " number of predicted negative: 0 \n",
      " number of predicted neutral: 60618 \n",
      "\n"
     ]
    }
   ],
   "source": [
    "#check to see how much pos, neu and neg were predicted\n",
    "countPos = 0\n",
    "countNeu = 0\n",
    "countNeg = 0\n",
    "\n",
    "predictedlist = []\n",
    "goldlist = []\n",
    "\n",
    "for (features, label) in test_set_sent:\n",
    "    goldlist.append(label)\n",
    "    predictedlist.append(classifier_sent.classify(features))\n",
    "\n",
    "for lab in predictedlist:\n",
    "    if lab == 'pos':\n",
    "        countPos += 1\n",
    "    if lab == 'neg':\n",
    "        countNeg += 1\n",
    "    if lab == 'neu':\n",
    "        countNeu += 1\n",
    "        \n",
    "        \n",
    "print('number of predicted positive:', countPos, '\\n',\n",
    "     'number of predicted negative:', countNeg, '\\n',\n",
    "     'number of predicted neutral:', countNeu, '\\n')"
   ]
  },
  {
   "cell_type": "markdown",
   "metadata": {},
   "source": [
    "### Note: the Naive Bayes model only predicted neutral for all words in the test group. "
   ]
  },
  {
   "cell_type": "markdown",
   "metadata": {},
   "source": [
    "## Using Cross Validation to obtain precision, recall and F-measure scores"
   ]
  },
  {
   "cell_type": "code",
   "execution_count": 55,
   "metadata": {},
   "outputs": [],
   "source": [
    "#function to compute precision, recall and F1 for if the algorithm accurately predicted profanity\n",
    "#returns a dictionary of mean precision, recall and f1 \n",
    "#this function is adjusted to be able to handle when all values are predicted as one label\n",
    "\n",
    "def eval_measure(gold, predicted):\n",
    "    #gather a list of the labels\n",
    "    labels = list(set(gold))\n",
    "    \n",
    "    #instantiate recall list, precision list and f1 list\n",
    "    recall_list = []\n",
    "    precision_list = []\n",
    "    f1_list = []\n",
    "   \n",
    "    #find the true positives, true negatives, false positives and false negatives for each label and use it to calculate\n",
    "    #recall precision and f1\n",
    "    for lab in labels:\n",
    "        TP = FP = FN = TN = 0\n",
    "        for i, val in enumerate(gold):\n",
    "            if val == lab and predicted[i]==lab: TP += 1\n",
    "            if val == lab and predicted[i]!=lab: FN += 1\n",
    "            if val != lab and predicted[i]==lab: FP += 1\n",
    "            if val != lab and predicted[i]!=lab: TN += 1\n",
    "        \n",
    "            #calculate recall, precision and f1 and add them to the list\n",
    "            #note if TP=0 then precision and recall will both = 0, and f1 will = 0 as well\n",
    "            if (TP == 0):\n",
    "                recall = 0\n",
    "                precision = 0\n",
    "                recall_list.append(0)\n",
    "                precision_list.append(0)\n",
    "            else:\n",
    "                recall = TP/(TP+FP)\n",
    "                precision = TP/(TP+FN)\n",
    "                recall_list.append(recall)\n",
    "                precision_list.append(precision)\n",
    "                f1_list.append (2 * (recall*precision)/(recall+precision))\n",
    "    \n",
    "    #find the mean recall, precision and f1 from each list\n",
    "    mean_recall = sum(recall_list)/len(recall_list)\n",
    "    mean_precision = sum(precision_list)/len(precision_list)\n",
    "    mean_f1 = sum(f1_list)/len(f1_list)\n",
    "    \n",
    "    \n",
    "    #return a dict with each of the means\n",
    "    rpf_dict = {'recall': mean_recall, 'precision': mean_precision, 'f1': mean_f1}\n",
    "    \n",
    "    return rpf_dict\n",
    "        "
   ]
  },
  {
   "cell_type": "code",
   "execution_count": 56,
   "metadata": {},
   "outputs": [
    {
     "name": "stdout",
     "output_type": "stream",
     "text": [
      "mean accuracy 0.843765829392811 \n",
      " mean precision 0.3333234355281716 \n",
      " mean recall 0.28104202519078864 \n",
      " mean f1 0.9148724414084363\n"
     ]
    }
   ],
   "source": [
    "#define the cross validation function\n",
    "def cross_validation(num_folds, featuresets):\n",
    "    subset_size = len(featuresets)/num_folds\n",
    "    accuracy_list = []\n",
    "    precision_list = []\n",
    "    recall_list = []\n",
    "    f1_list = []\n",
    "    #iterate over the folds\n",
    "    for i in range(num_folds):\n",
    "        if i == 0:\n",
    "            test_this_round = featuresets[:int(subset_size)]\n",
    "            train_this_round = featuresets[int(subset_size):]\n",
    "        if i == num_folds-1:\n",
    "            test_this_round = featuresets[int(i*subset_size):]\n",
    "            train_this_round = featuresets[:int(i*subset_size)]\n",
    "        else:\n",
    "            test_this_round = featuresets[int(i*subset_size):int((i+1)*subset_size)]\n",
    "            train_this_round = featuresets[:int(i*subset_size)]+featuresets[int((i+1)*subset_size):]\n",
    "\n",
    "        train_this_round = featuresets[:int(i*subset_size)]+featuresets[int((i+1)*subset_size):]\n",
    "        #train \n",
    "        classifier = nltk.NaiveBayesClassifier.train(train_this_round)\n",
    "        #evaluate against test this round and save accuracy, precision, recall and f-measure\n",
    "       \n",
    "        #accuracy\n",
    "        accuracy_this_round = nltk.classify.accuracy(classifier, test_this_round)\n",
    "        accuracy_list.append(accuracy_this_round)\n",
    "        \n",
    "        #calculate recall, precision and f1\n",
    "        \n",
    "        predictedlist = []\n",
    "        goldlist = []\n",
    "\n",
    "        for (features, label) in test_this_round:\n",
    "            goldlist.append(label)\n",
    "            predictedlist.append(classifier.classify(features))\n",
    "        \n",
    "        rpf_dict = eval_measure(goldlist, predictedlist)\n",
    "        \n",
    "        #precision\n",
    "        precision = rpf_dict['precision']\n",
    "        precision_list.append(precision)\n",
    "        \n",
    "        #recall\n",
    "        recall = rpf_dict['recall']\n",
    "        recall_list.append(recall)\n",
    "        \n",
    "        #f1\n",
    "        f1 = rpf_dict['f1']\n",
    "        f1_list.append(f1)\n",
    "        \n",
    "    #find mean for all measures and print\n",
    "    mean_accuracy = sum(accuracy_list)/num_folds\n",
    "    mean_precision = sum(precision_list)/num_folds\n",
    "    mean_recall = sum(recall_list)/num_folds\n",
    "    mean_f1 = sum(f1_list)/num_folds\n",
    "\n",
    "    print('mean accuracy', mean_accuracy, '\\n', 'mean precision', mean_precision, '\\n', \n",
    "          'mean recall', mean_recall, '\\n', 'mean f1', mean_f1)\n",
    "        \n",
    "#use 5 folds\n",
    "cross_validation(5, featuresets_sent)"
   ]
  },
  {
   "cell_type": "markdown",
   "metadata": {},
   "source": [
    "### Here we can see that \n",
    "\n",
    "mean accuracy is 0.84 \n",
    " mean precision is 0.33\n",
    " mean recall is 0.28 \n",
    " and mean f1 is 0.91\n",
    " \n",
    "Note this may be different due to randomization"
   ]
  },
  {
   "cell_type": "code",
   "execution_count": 309,
   "metadata": {},
   "outputs": [
    {
     "name": "stdout",
     "output_type": "stream",
     "text": [
      "['useless', 'kill', 'badass', 'piss', 'mental', 'shoot', 'porn', 'bitch', 'shit', 'crap']\n"
     ]
    },
    {
     "data": {
      "text/plain": [
       "79"
      ]
     },
     "execution_count": 309,
     "metadata": {},
     "output_type": "execute_result"
    }
   ],
   "source": [
    "#Exploring overlap of profanity in both corpuses\n",
    "lfa_profanity = [w.lower( ) for w in lfa_profanity]\n",
    "tfios_profanity = [w.lower( ) for w in tfios_profanity]\n",
    "\n",
    "\n",
    "lfa_profanity = [s.replace(\".\", \"\") for s in lfa_profanity]\n",
    "tfios_profanity=[s.replace(\".\", \"\") for s in tfios_profanity]\n",
    "\n",
    "prof_overlap=[]\n",
    "\n",
    "for word in lfa_profanity:\n",
    "    if word in tfios_profanity:\n",
    "        prof_overlap.append(word)\n",
    "        \n",
    "updated = []\n",
    "for i in prof_overlap:\n",
    "    if i not in updated:\n",
    "        updated.append(i)\n",
    "\n",
    "#printing first 10 overlapping words\n",
    "print(updated[:10])\n",
    "\n",
    "#total overlapping profane words from both books\n",
    "len(updated)"
   ]
  },
  {
   "cell_type": "code",
   "execution_count": 310,
   "metadata": {},
   "outputs": [],
   "source": [
    "#Exploring overlap of all words in both books\n",
    "#removing periods\n",
    "stoppedwords_lfa = [s.replace(\".\", \"\") for s in stoppedwords_lfa]\n",
    "stoppedwords_tfios = [s.replace(\".\", \"\") for s in stoppedwords_tfios]"
   ]
  },
  {
   "cell_type": "code",
   "execution_count": 311,
   "metadata": {},
   "outputs": [],
   "source": [
    "#creating list of all overlapping words\n",
    "both_overlap=[]\n",
    "\n",
    "for word in stoppedwords_lfa:\n",
    "    if word in stoppedwords_tfios:\n",
    "        both_overlap.append(word)"
   ]
  },
  {
   "cell_type": "code",
   "execution_count": 312,
   "metadata": {},
   "outputs": [],
   "source": [
    "#removing any duplicates\n",
    "both_updated = []\n",
    "for i in both_overlap:\n",
    "    if i not in both_updated:\n",
    "        both_updated.append(i)"
   ]
  },
  {
   "cell_type": "code",
   "execution_count": 313,
   "metadata": {},
   "outputs": [
    {
     "data": {
      "text/plain": [
       "2993"
      ]
     },
     "execution_count": 313,
     "metadata": {},
     "output_type": "execute_result"
    }
   ],
   "source": [
    "len(both_updated)"
   ]
  },
  {
   "cell_type": "code",
   "execution_count": 314,
   "metadata": {},
   "outputs": [],
   "source": [
    "#taking out the LFA profanity from reg 'clean' words\n",
    "for i in both_updated:\n",
    "    if i in lfa_profanity:\n",
    "        both_updated.remove(i)"
   ]
  },
  {
   "cell_type": "code",
   "execution_count": 315,
   "metadata": {},
   "outputs": [
    {
     "data": {
      "text/plain": [
       "2916"
      ]
     },
     "execution_count": 315,
     "metadata": {},
     "output_type": "execute_result"
    }
   ],
   "source": [
    "len(both_updated)"
   ]
  },
  {
   "cell_type": "code",
   "execution_count": 316,
   "metadata": {},
   "outputs": [],
   "source": [
    "#taking out the TFIOS profanity from reg 'clean' words\n",
    "for i in both_updated:\n",
    "    if i in tfios_profanity:\n",
    "        both_updated.remove(i)"
   ]
  },
  {
   "cell_type": "code",
   "execution_count": 317,
   "metadata": {},
   "outputs": [
    {
     "data": {
      "text/plain": [
       "2914"
      ]
     },
     "execution_count": 317,
     "metadata": {},
     "output_type": "execute_result"
    }
   ],
   "source": [
    "#final length of overlapping regular aka 'clean' words\n",
    "len(both_updated)"
   ]
  },
  {
   "cell_type": "code",
   "execution_count": 318,
   "metadata": {},
   "outputs": [
    {
     "name": "stdout",
     "output_type": "stream",
     "text": [
      "['everybody', 'sitting', 'sleeping', 'bags', 'alaska', 'smoking', 'overwhelming', 'pulled', 'single', 'piece', 'computer', 'paper', 'read', 'point', 'evening', 'weekday', 'also', 'opportunity', 'make', 'life']\n"
     ]
    }
   ],
   "source": [
    "#printing first 20 overlapping 'clean' words\n",
    "print(both_updated[:20])"
   ]
  },
  {
   "cell_type": "code",
   "execution_count": 319,
   "metadata": {},
   "outputs": [
    {
     "name": "stdout",
     "output_type": "stream",
     "text": [
      "[('useless', 'JJ'), ('kill', 'NN'), ('badass', 'NN'), ('piss', 'JJ'), ('mental', 'JJ')]\n"
     ]
    }
   ],
   "source": [
    "#POS Tagging of overlapped profanity to prep for SentiWordNet\n",
    "tagged = nltk.pos_tag(updated)\n",
    "\n",
    "#Viewing first 5 tagged\n",
    "print(tagged[:5])"
   ]
  },
  {
   "cell_type": "code",
   "execution_count": 320,
   "metadata": {},
   "outputs": [
    {
     "name": "stdout",
     "output_type": "stream",
     "text": [
      "[('everybody', 'NN'), ('sitting', 'VBG'), ('sleeping', 'VBG'), ('bags', 'NNS'), ('alaska', 'RB')]\n"
     ]
    }
   ],
   "source": [
    "#POS Tagging of overlapped clean words to prep for SentiWordNet\n",
    "clean_tagged = nltk.pos_tag(both_updated)\n",
    "\n",
    "#Viewing first 5 tagged\n",
    "print(clean_tagged[:5])"
   ]
  },
  {
   "cell_type": "code",
   "execution_count": 321,
   "metadata": {},
   "outputs": [],
   "source": [
    "#SentiWordNet Lex for overlapping profanity/clean words in both LFA and FIOS\n",
    "#Works with WordNet synsets, score will be assigned based on word meaning\n",
    "\n",
    "from nltk.corpus import wordnet as wn\n",
    "from nltk.corpus import sentiwordnet as swn\n",
    "from nltk.stem import PorterStemmer\n",
    "\n",
    "def penn_to_wn(tag):\n",
    "\n",
    "#Converting between the PennTreebank tags to simple Wordnet tags\n",
    "\n",
    "    if tag.startswith('J'):\n",
    "        return wn.ADJ\n",
    "    elif tag.startswith('N'):\n",
    "        return wn.NOUN\n",
    "    elif tag.startswith('R'):\n",
    "        return wn.ADV\n",
    "    elif tag.startswith('V'):\n",
    "        return wn.VERB\n",
    "    return None"
   ]
  },
  {
   "cell_type": "code",
   "execution_count": 322,
   "metadata": {},
   "outputs": [],
   "source": [
    "from nltk.stem import WordNetLemmatizer\n",
    "lemmatizer = WordNetLemmatizer()\n",
    "\n",
    "def get_sentiment(word,tag):\n",
    "\n",
    "#This will return list of pos, neg, and objective scores. Will return empty list if not present in SentiWordNet\n",
    "\n",
    "    wn_tag = penn_to_wn(tag)\n",
    "    if wn_tag not in (wn.NOUN, wn.ADJ, wn.ADV):\n",
    "        return []\n",
    "\n",
    "    lemma = lemmatizer.lemmatize(word, pos=wn_tag)\n",
    "    if not lemma:\n",
    "        return []\n",
    "\n",
    "    synsets = wn.synsets(word, pos=wn_tag)\n",
    "    if not synsets:\n",
    "        return []\n",
    "\n",
    "    synset = synsets[0]\n",
    "    swn_synset = swn.senti_synset(synset.name())\n",
    "\n",
    "    return [word,swn_synset.pos_score(),swn_synset.neg_score(),swn_synset.obj_score()]"
   ]
  },
  {
   "cell_type": "code",
   "execution_count": 323,
   "metadata": {},
   "outputs": [],
   "source": [
    "#Checking sentiment for profanity overlap\n",
    "senti_val = [get_sentiment(x,y) for (x,y) in tagged]"
   ]
  },
  {
   "cell_type": "code",
   "execution_count": 324,
   "metadata": {},
   "outputs": [
    {
     "name": "stdout",
     "output_type": "stream",
     "text": [
      "[['useless', 0.125, 0.625, 0.25], ['kill', 0.0, 0.0, 1.0], [], [], ['mental', 0.125, 0.0, 0.875], ['shoot', 0.125, 0.0, 0.875], [], ['bitch', 0.0, 0.75, 0.25], ['shit', 0.0, 0.25, 0.75], ['crap', 0.0, 0.25, 0.75]]\n"
     ]
    }
   ],
   "source": [
    "#Viewing first 10 sentiments\n",
    "print(senti_val[:10])"
   ]
  },
  {
   "cell_type": "code",
   "execution_count": 325,
   "metadata": {},
   "outputs": [],
   "source": [
    "#Checking sentiment for clean overlap\n",
    "senti_clean = [get_sentiment(x,y) for (x,y) in clean_tagged]"
   ]
  },
  {
   "cell_type": "code",
   "execution_count": 326,
   "metadata": {},
   "outputs": [
    {
     "name": "stdout",
     "output_type": "stream",
     "text": [
      "[[], [], [], ['bags', 0.0, 0.0, 1.0], [], [], [], [], ['single', 0.0, 0.0, 1.0], ['piece', 0.0, 0.0, 1.0], ['computer', 0.0, 0.0, 1.0], ['paper', 0.0, 0.0, 1.0], [], ['point', 0.0, 0.0, 1.0], [], ['weekday', 0.0, 0.0, 1.0], ['also', 0.0, 0.0, 1.0], ['opportunity', 0.5, 0.0, 0.5], [], ['life', 0.0, 0.0, 1.0], ['unpleasant', 0.125, 0.625, 0.25], ['eagle', 0.0, 0.0, 1.0], ['always', 0.0, 0.0, 1.0], ['welcome', 0.5, 0.0, 0.5], ['pleasure', 0.0, 0.0, 1.0], [], [], ['tonight', 0.0, 0.0, 1.0], ['battle', 0.0, 0.0, 1.0], [], ['front', 0.0, 0.0, 1.0], [], ['light', 0.0, 0.25, 0.75], ['fire', 0.0, 0.0, 1.0], [], [], ['mission', 0.0, 0.0, 1.0], [], [], [], [], ['interrupted', 0.0, 0.0, 1.0], ['idea', 0.125, 0.0, 0.875], ['okay', 0.625, 0.0, 0.375], ['fine', 0.375, 0.0, 0.625], [], ['finally', 0.0, 0.0, 1.0], [], ['network', 0.0, 0.0, 1.0], ['use', 0.0, 0.0, 1.0]]\n"
     ]
    }
   ],
   "source": [
    "#Viewing first 50 sentiments\n",
    "print(senti_clean[:50])"
   ]
  },
  {
   "cell_type": "code",
   "execution_count": 327,
   "metadata": {},
   "outputs": [],
   "source": [
    "#Turning prof overlap and clean overlap and into dfs for easy viewing\n",
    "import pandas as pd\n",
    "profanitydf = pd.DataFrame(senti_val)\n",
    "cleandf = pd.DataFrame(senti_clean)"
   ]
  },
  {
   "cell_type": "code",
   "execution_count": 328,
   "metadata": {},
   "outputs": [],
   "source": [
    "#Renaming columns\n",
    "profanitydf.columns =['Word', 'Pos_score', 'Neg_score', 'Obj_score']\n",
    "cleandf.columns =['Word', 'Pos_score', 'Neg_score', 'Obj_score']"
   ]
  },
  {
   "cell_type": "code",
   "execution_count": 329,
   "metadata": {},
   "outputs": [
    {
     "data": {
      "text/html": [
       "<div>\n",
       "<style scoped>\n",
       "    .dataframe tbody tr th:only-of-type {\n",
       "        vertical-align: middle;\n",
       "    }\n",
       "\n",
       "    .dataframe tbody tr th {\n",
       "        vertical-align: top;\n",
       "    }\n",
       "\n",
       "    .dataframe thead th {\n",
       "        text-align: right;\n",
       "    }\n",
       "</style>\n",
       "<table border=\"1\" class=\"dataframe\">\n",
       "  <thead>\n",
       "    <tr style=\"text-align: right;\">\n",
       "      <th></th>\n",
       "      <th>Word</th>\n",
       "      <th>Pos_score</th>\n",
       "      <th>Neg_score</th>\n",
       "      <th>Obj_score</th>\n",
       "    </tr>\n",
       "  </thead>\n",
       "  <tbody>\n",
       "    <tr>\n",
       "      <th>0</th>\n",
       "      <td>useless</td>\n",
       "      <td>0.125</td>\n",
       "      <td>0.625</td>\n",
       "      <td>0.250</td>\n",
       "    </tr>\n",
       "    <tr>\n",
       "      <th>1</th>\n",
       "      <td>kill</td>\n",
       "      <td>0.000</td>\n",
       "      <td>0.000</td>\n",
       "      <td>1.000</td>\n",
       "    </tr>\n",
       "    <tr>\n",
       "      <th>2</th>\n",
       "      <td>None</td>\n",
       "      <td>NaN</td>\n",
       "      <td>NaN</td>\n",
       "      <td>NaN</td>\n",
       "    </tr>\n",
       "    <tr>\n",
       "      <th>3</th>\n",
       "      <td>None</td>\n",
       "      <td>NaN</td>\n",
       "      <td>NaN</td>\n",
       "      <td>NaN</td>\n",
       "    </tr>\n",
       "    <tr>\n",
       "      <th>4</th>\n",
       "      <td>mental</td>\n",
       "      <td>0.125</td>\n",
       "      <td>0.000</td>\n",
       "      <td>0.875</td>\n",
       "    </tr>\n",
       "  </tbody>\n",
       "</table>\n",
       "</div>"
      ],
      "text/plain": [
       "      Word  Pos_score  Neg_score  Obj_score\n",
       "0  useless      0.125      0.625      0.250\n",
       "1     kill      0.000      0.000      1.000\n",
       "2     None        NaN        NaN        NaN\n",
       "3     None        NaN        NaN        NaN\n",
       "4   mental      0.125      0.000      0.875"
      ]
     },
     "execution_count": 329,
     "metadata": {},
     "output_type": "execute_result"
    }
   ],
   "source": [
    "#Making Word the index\n",
    "profanitydf.set_index('Word')\n",
    "cleandf.set_index('Word')\n",
    "\n",
    "profanitydf.head()"
   ]
  },
  {
   "cell_type": "code",
   "execution_count": 330,
   "metadata": {},
   "outputs": [
    {
     "data": {
      "text/html": [
       "<div>\n",
       "<style scoped>\n",
       "    .dataframe tbody tr th:only-of-type {\n",
       "        vertical-align: middle;\n",
       "    }\n",
       "\n",
       "    .dataframe tbody tr th {\n",
       "        vertical-align: top;\n",
       "    }\n",
       "\n",
       "    .dataframe thead th {\n",
       "        text-align: right;\n",
       "    }\n",
       "</style>\n",
       "<table border=\"1\" class=\"dataframe\">\n",
       "  <thead>\n",
       "    <tr style=\"text-align: right;\">\n",
       "      <th></th>\n",
       "      <th>Word</th>\n",
       "      <th>Pos_score</th>\n",
       "      <th>Neg_score</th>\n",
       "      <th>Obj_score</th>\n",
       "    </tr>\n",
       "  </thead>\n",
       "  <tbody>\n",
       "    <tr>\n",
       "      <th>0</th>\n",
       "      <td>None</td>\n",
       "      <td>NaN</td>\n",
       "      <td>NaN</td>\n",
       "      <td>NaN</td>\n",
       "    </tr>\n",
       "    <tr>\n",
       "      <th>1</th>\n",
       "      <td>None</td>\n",
       "      <td>NaN</td>\n",
       "      <td>NaN</td>\n",
       "      <td>NaN</td>\n",
       "    </tr>\n",
       "    <tr>\n",
       "      <th>2</th>\n",
       "      <td>None</td>\n",
       "      <td>NaN</td>\n",
       "      <td>NaN</td>\n",
       "      <td>NaN</td>\n",
       "    </tr>\n",
       "    <tr>\n",
       "      <th>3</th>\n",
       "      <td>bags</td>\n",
       "      <td>0.0</td>\n",
       "      <td>0.0</td>\n",
       "      <td>1.0</td>\n",
       "    </tr>\n",
       "    <tr>\n",
       "      <th>4</th>\n",
       "      <td>None</td>\n",
       "      <td>NaN</td>\n",
       "      <td>NaN</td>\n",
       "      <td>NaN</td>\n",
       "    </tr>\n",
       "  </tbody>\n",
       "</table>\n",
       "</div>"
      ],
      "text/plain": [
       "   Word  Pos_score  Neg_score  Obj_score\n",
       "0  None        NaN        NaN        NaN\n",
       "1  None        NaN        NaN        NaN\n",
       "2  None        NaN        NaN        NaN\n",
       "3  bags        0.0        0.0        1.0\n",
       "4  None        NaN        NaN        NaN"
      ]
     },
     "execution_count": 330,
     "metadata": {},
     "output_type": "execute_result"
    }
   ],
   "source": [
    "cleandf.head()"
   ]
  },
  {
   "cell_type": "code",
   "execution_count": 331,
   "metadata": {},
   "outputs": [
    {
     "data": {
      "text/html": [
       "<div>\n",
       "<style scoped>\n",
       "    .dataframe tbody tr th:only-of-type {\n",
       "        vertical-align: middle;\n",
       "    }\n",
       "\n",
       "    .dataframe tbody tr th {\n",
       "        vertical-align: top;\n",
       "    }\n",
       "\n",
       "    .dataframe thead th {\n",
       "        text-align: right;\n",
       "    }\n",
       "</style>\n",
       "<table border=\"1\" class=\"dataframe\">\n",
       "  <thead>\n",
       "    <tr style=\"text-align: right;\">\n",
       "      <th></th>\n",
       "      <th>Word</th>\n",
       "      <th>Pos_score</th>\n",
       "      <th>Neg_score</th>\n",
       "      <th>Obj_score</th>\n",
       "    </tr>\n",
       "  </thead>\n",
       "  <tbody>\n",
       "    <tr>\n",
       "      <th>0</th>\n",
       "      <td>useless</td>\n",
       "      <td>0.125</td>\n",
       "      <td>0.625</td>\n",
       "      <td>0.250</td>\n",
       "    </tr>\n",
       "    <tr>\n",
       "      <th>1</th>\n",
       "      <td>kill</td>\n",
       "      <td>0.000</td>\n",
       "      <td>0.000</td>\n",
       "      <td>1.000</td>\n",
       "    </tr>\n",
       "    <tr>\n",
       "      <th>4</th>\n",
       "      <td>mental</td>\n",
       "      <td>0.125</td>\n",
       "      <td>0.000</td>\n",
       "      <td>0.875</td>\n",
       "    </tr>\n",
       "    <tr>\n",
       "      <th>5</th>\n",
       "      <td>shoot</td>\n",
       "      <td>0.125</td>\n",
       "      <td>0.000</td>\n",
       "      <td>0.875</td>\n",
       "    </tr>\n",
       "    <tr>\n",
       "      <th>7</th>\n",
       "      <td>bitch</td>\n",
       "      <td>0.000</td>\n",
       "      <td>0.750</td>\n",
       "      <td>0.250</td>\n",
       "    </tr>\n",
       "  </tbody>\n",
       "</table>\n",
       "</div>"
      ],
      "text/plain": [
       "      Word  Pos_score  Neg_score  Obj_score\n",
       "0  useless      0.125      0.625      0.250\n",
       "1     kill      0.000      0.000      1.000\n",
       "4   mental      0.125      0.000      0.875\n",
       "5    shoot      0.125      0.000      0.875\n",
       "7    bitch      0.000      0.750      0.250"
      ]
     },
     "execution_count": 331,
     "metadata": {},
     "output_type": "execute_result"
    }
   ],
   "source": [
    "#Dropping any NAs we have in profanity df\n",
    "profanitydf=profanitydf.dropna()\n",
    "profanitydf.head()"
   ]
  },
  {
   "cell_type": "code",
   "execution_count": 332,
   "metadata": {},
   "outputs": [
    {
     "data": {
      "text/html": [
       "<div>\n",
       "<style scoped>\n",
       "    .dataframe tbody tr th:only-of-type {\n",
       "        vertical-align: middle;\n",
       "    }\n",
       "\n",
       "    .dataframe tbody tr th {\n",
       "        vertical-align: top;\n",
       "    }\n",
       "\n",
       "    .dataframe thead th {\n",
       "        text-align: right;\n",
       "    }\n",
       "</style>\n",
       "<table border=\"1\" class=\"dataframe\">\n",
       "  <thead>\n",
       "    <tr style=\"text-align: right;\">\n",
       "      <th></th>\n",
       "      <th>Word</th>\n",
       "      <th>Pos_score</th>\n",
       "      <th>Neg_score</th>\n",
       "      <th>Obj_score</th>\n",
       "    </tr>\n",
       "  </thead>\n",
       "  <tbody>\n",
       "    <tr>\n",
       "      <th>3</th>\n",
       "      <td>bags</td>\n",
       "      <td>0.0</td>\n",
       "      <td>0.0</td>\n",
       "      <td>1.0</td>\n",
       "    </tr>\n",
       "    <tr>\n",
       "      <th>8</th>\n",
       "      <td>single</td>\n",
       "      <td>0.0</td>\n",
       "      <td>0.0</td>\n",
       "      <td>1.0</td>\n",
       "    </tr>\n",
       "    <tr>\n",
       "      <th>9</th>\n",
       "      <td>piece</td>\n",
       "      <td>0.0</td>\n",
       "      <td>0.0</td>\n",
       "      <td>1.0</td>\n",
       "    </tr>\n",
       "    <tr>\n",
       "      <th>10</th>\n",
       "      <td>computer</td>\n",
       "      <td>0.0</td>\n",
       "      <td>0.0</td>\n",
       "      <td>1.0</td>\n",
       "    </tr>\n",
       "    <tr>\n",
       "      <th>11</th>\n",
       "      <td>paper</td>\n",
       "      <td>0.0</td>\n",
       "      <td>0.0</td>\n",
       "      <td>1.0</td>\n",
       "    </tr>\n",
       "  </tbody>\n",
       "</table>\n",
       "</div>"
      ],
      "text/plain": [
       "        Word  Pos_score  Neg_score  Obj_score\n",
       "3       bags        0.0        0.0        1.0\n",
       "8     single        0.0        0.0        1.0\n",
       "9      piece        0.0        0.0        1.0\n",
       "10  computer        0.0        0.0        1.0\n",
       "11     paper        0.0        0.0        1.0"
      ]
     },
     "execution_count": 332,
     "metadata": {},
     "output_type": "execute_result"
    }
   ],
   "source": [
    "#Dropping any NAs we have in clean df\n",
    "cleandf=cleandf.dropna()\n",
    "cleandf.head()"
   ]
  },
  {
   "cell_type": "code",
   "execution_count": 333,
   "metadata": {},
   "outputs": [],
   "source": [
    "#Creating function to properly categorize the sentiment to each word\n",
    "def categorise(row):  \n",
    "    if row['Pos_score'] < 0.3333 and row['Neg_score'] > 0.3333 and row['Obj_score'] < 0.3333:\n",
    "        return 'Negative'\n",
    "    elif row['Pos_score'] > 0.3333 and row['Neg_score'] < 0.3333 and row['Obj_score'] < 0.3333:\n",
    "        return 'Positive'\n",
    "    elif row['Obj_score'] > 0.3333 and row['Pos_score'] < 0.3333 and row['Neg_score'] < 0.3333:\n",
    "        return 'Neutral'\n",
    "    elif row['Obj_score'] == 0 and row['Pos_score'] > 0.5:\n",
    "        return 'Positive'\n",
    "    elif row['Obj_score'] == 0 and row['Pos_score'] < 0.5:\n",
    "        return 'Negative'\n",
    "    elif row['Neg_score'] == 0 and row['Pos_score'] < 0.5:\n",
    "        return 'Neutral'\n",
    "    elif row['Neg_score'] == 0 and row['Pos_score'] > 0.5:\n",
    "        return 'Positive'\n",
    "    elif row['Pos_score'] == 0 and row['Neg_score'] > 0.5:\n",
    "        return 'Negative'\n",
    "    elif row['Pos_score'] == 0 and row['Neg_score'] < 0.5:\n",
    "        return 'Neutral'\n",
    "    elif row['Pos_score'] == 0.5 and row['Neg_score'] < 0.5 and row['Obj_score'] < 0.5:\n",
    "        return 'Positive'\n",
    "    elif row['Neg_score'] == 0.5 and row['Pos_score'] < 0.5 and row['Pos_score'] < 0.5:\n",
    "        return 'Negative'\n",
    "    elif row['Obj_score'] == 0.5 and row['Pos_score'] < 0.5 and row['Pos_score'] < 0.5:\n",
    "        return 'Neutral'\n",
    "    elif row['Obj_score'] == row['Pos_score'] or row['Neg_score']:\n",
    "        return 'Neutral'"
   ]
  },
  {
   "cell_type": "code",
   "execution_count": 334,
   "metadata": {},
   "outputs": [],
   "source": [
    "profanitydf['Sentiment'] = profanitydf.apply(lambda row: categorise(row), axis=1)"
   ]
  },
  {
   "cell_type": "code",
   "execution_count": 335,
   "metadata": {},
   "outputs": [
    {
     "name": "stdout",
     "output_type": "stream",
     "text": [
      "        Word  Pos_score  Neg_score  Obj_score Sentiment\n",
      "0    useless      0.125      0.625      0.250  Negative\n",
      "1       kill      0.000      0.000      1.000   Neutral\n",
      "4     mental      0.125      0.000      0.875   Neutral\n",
      "5      shoot      0.125      0.000      0.875   Neutral\n",
      "7      bitch      0.000      0.750      0.250  Negative\n",
      "8       shit      0.000      0.250      0.750   Neutral\n",
      "9       crap      0.000      0.250      0.750   Neutral\n",
      "10    stupid      0.000      0.750      0.250  Negative\n",
      "11  bastards      0.000      0.625      0.375  Negative\n",
      "14     hates      0.125      0.375      0.500   Neutral\n"
     ]
    }
   ],
   "source": [
    "print(profanitydf[:10])"
   ]
  },
  {
   "cell_type": "code",
   "execution_count": 336,
   "metadata": {},
   "outputs": [],
   "source": [
    "cleandf['Sentiment'] = cleandf.apply(lambda row: categorise(row), axis=1)"
   ]
  },
  {
   "cell_type": "code",
   "execution_count": 337,
   "metadata": {},
   "outputs": [
    {
     "name": "stdout",
     "output_type": "stream",
     "text": [
      "           Word  Pos_score  Neg_score  Obj_score Sentiment\n",
      "3          bags      0.000      0.000       1.00   Neutral\n",
      "8        single      0.000      0.000       1.00   Neutral\n",
      "9         piece      0.000      0.000       1.00   Neutral\n",
      "10     computer      0.000      0.000       1.00   Neutral\n",
      "11        paper      0.000      0.000       1.00   Neutral\n",
      "13        point      0.000      0.000       1.00   Neutral\n",
      "15      weekday      0.000      0.000       1.00   Neutral\n",
      "16         also      0.000      0.000       1.00   Neutral\n",
      "17  opportunity      0.500      0.000       0.50   Neutral\n",
      "19         life      0.000      0.000       1.00   Neutral\n",
      "20   unpleasant      0.125      0.625       0.25  Negative\n",
      "21        eagle      0.000      0.000       1.00   Neutral\n",
      "22       always      0.000      0.000       1.00   Neutral\n",
      "23      welcome      0.500      0.000       0.50   Neutral\n",
      "24     pleasure      0.000      0.000       1.00   Neutral\n",
      "27      tonight      0.000      0.000       1.00   Neutral\n",
      "28       battle      0.000      0.000       1.00   Neutral\n",
      "30        front      0.000      0.000       1.00   Neutral\n",
      "32        light      0.000      0.250       0.75   Neutral\n",
      "33         fire      0.000      0.000       1.00   Neutral\n"
     ]
    }
   ],
   "source": [
    "print(cleandf[:20])"
   ]
  },
  {
   "cell_type": "code",
   "execution_count": 338,
   "metadata": {},
   "outputs": [
    {
     "name": "stderr",
     "output_type": "stream",
     "text": [
      "/usr/local/anaconda3/lib/python3.9/site-packages/seaborn/_decorators.py:36: FutureWarning: Pass the following variable as a keyword arg: x. From version 0.12, the only valid positional argument will be `data`, and passing other arguments without an explicit keyword will result in an error or misinterpretation.\n",
      "  warnings.warn(\n"
     ]
    },
    {
     "data": {
      "text/plain": [
       "<AxesSubplot:xlabel='Sentiment', ylabel='count'>"
      ]
     },
     "execution_count": 338,
     "metadata": {},
     "output_type": "execute_result"
    },
    {
     "data": {
      "image/png": "[encoded data removed]",
      "text/plain": [
       "<Figure size 432x288 with 1 Axes>"
      ]
     },
     "metadata": {
      "needs_background": "light"
     },
     "output_type": "display_data"
    }
   ],
   "source": [
    "import seaborn as sns\n",
    "#plotting sentiment for profanity df, no positivity seen here,\n",
    "#but it is a very small subset of data compared to the clean df\n",
    "#Not as much negativity as initially expected\n",
    "sns.countplot(profanitydf['Sentiment'])"
   ]
  },
  {
   "cell_type": "code",
   "execution_count": 339,
   "metadata": {},
   "outputs": [
    {
     "name": "stderr",
     "output_type": "stream",
     "text": [
      "/usr/local/anaconda3/lib/python3.9/site-packages/seaborn/_decorators.py:36: FutureWarning: Pass the following variable as a keyword arg: x. From version 0.12, the only valid positional argument will be `data`, and passing other arguments without an explicit keyword will result in an error or misinterpretation.\n",
      "  warnings.warn(\n"
     ]
    },
    {
     "data": {
      "text/plain": [
       "<AxesSubplot:xlabel='Sentiment', ylabel='count'>"
      ]
     },
     "execution_count": 339,
     "metadata": {},
     "output_type": "execute_result"
    },
    {
     "data": {
      "image/png": "[encoded data removed]",
      "text/plain": [
       "<Figure size 432x288 with 1 Axes>"
      ]
     },
     "metadata": {
      "needs_background": "light"
     },
     "output_type": "display_data"
    }
   ],
   "source": [
    "#plotting sentiment for clean df\n",
    "sns.countplot(cleandf['Sentiment'])"
   ]
  },
  {
   "cell_type": "code",
   "execution_count": 349,
   "metadata": {},
   "outputs": [],
   "source": [
    "#Connecting both dfs\n",
    "frames = [profanitydf, cleandf]\n",
    "result = pd.concat(frames)"
   ]
  },
  {
   "cell_type": "code",
   "execution_count": 348,
   "metadata": {},
   "outputs": [
    {
     "name": "stderr",
     "output_type": "stream",
     "text": [
      "/usr/local/anaconda3/lib/python3.9/site-packages/seaborn/_decorators.py:36: FutureWarning: Pass the following variable as a keyword arg: x. From version 0.12, the only valid positional argument will be `data`, and passing other arguments without an explicit keyword will result in an error or misinterpretation.\n",
      "  warnings.warn(\n"
     ]
    },
    {
     "data": {
      "text/plain": [
       "<AxesSubplot:xlabel='Sentiment', ylabel='count'>"
      ]
     },
     "execution_count": 348,
     "metadata": {},
     "output_type": "execute_result"
    },
    {
     "data": {
      "image/png": "[encoded data removed]",
      "text/plain": [
       "<Figure size 432x288 with 1 Axes>"
      ]
     },
     "metadata": {
      "needs_background": "light"
     },
     "output_type": "display_data"
    }
   ],
   "source": [
    "#plotting both overlapping sets combined\n",
    "sns.countplot(result['Sentiment'])"
   ]
  }
 ],
 "metadata": {
  "kernelspec": {
   "display_name": "Python 3 (ipykernel)",
   "language": "python",
   "name": "python3"
  },
  "language_info": {
   "codemirror_mode": {
    "name": "ipython",
    "version": 3
   },
   "file_extension": ".py",
   "mimetype": "text/x-python",
   "name": "python",
   "nbconvert_exporter": "python",
   "pygments_lexer": "ipython3",
   "version": "3.9.7"
  }
 },
 "nbformat": 4,
 "nbformat_minor": 4
}
