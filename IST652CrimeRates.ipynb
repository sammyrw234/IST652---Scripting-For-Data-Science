{
 "cells": [
  {
   "cell_type": "markdown",
   "metadata": {},
   "source": [
    "## Import LA and NYC dataframes, clean them and merge."
   ]
  },
  {
   "cell_type": "code",
   "execution_count": 65,
   "metadata": {},
   "outputs": [],
   "source": [
    "import csv\n",
    "import pandas as pd\n",
    "csvLA = \"/Users/sammywhite/Downloads/Crime_Data_from_2010_to_2019.csv\"\n",
    "csvNYC = \"/Users/sammywhite/Downloads/NYC_crime.csv\""
   ]
  },
  {
   "cell_type": "code",
   "execution_count": 154,
   "metadata": {},
   "outputs": [],
   "source": [
    "#import first data source\n",
    "df_LA = pd.read_csv(csvLA)\n",
    "df_NYC = pd.read_csv(csvNYC)"
   ]
  },
  {
   "cell_type": "code",
   "execution_count": 155,
   "metadata": {},
   "outputs": [
    {
     "data": {
      "text/html": [
       "<div>\n",
       "<style scoped>\n",
       "    .dataframe tbody tr th:only-of-type {\n",
       "        vertical-align: middle;\n",
       "    }\n",
       "\n",
       "    .dataframe tbody tr th {\n",
       "        vertical-align: top;\n",
       "    }\n",
       "\n",
       "    .dataframe thead th {\n",
       "        text-align: right;\n",
       "    }\n",
       "</style>\n",
       "<table border=\"1\" class=\"dataframe\">\n",
       "  <thead>\n",
       "    <tr style=\"text-align: right;\">\n",
       "      <th></th>\n",
       "      <th>Record Number</th>\n",
       "      <th>Date</th>\n",
       "      <th>Time Occured</th>\n",
       "      <th>Area Name</th>\n",
       "      <th>Desc</th>\n",
       "      <th>City</th>\n",
       "    </tr>\n",
       "  </thead>\n",
       "  <tbody>\n",
       "    <tr>\n",
       "      <th>0</th>\n",
       "      <td>1307355</td>\n",
       "      <td>02/20/2010 12:00:00 AM</td>\n",
       "      <td>1350</td>\n",
       "      <td>Newton</td>\n",
       "      <td>VIOLATION OF COURT ORDER</td>\n",
       "      <td>LA</td>\n",
       "    </tr>\n",
       "    <tr>\n",
       "      <th>1</th>\n",
       "      <td>11401303</td>\n",
       "      <td>09/12/2010 12:00:00 AM</td>\n",
       "      <td>45</td>\n",
       "      <td>Pacific</td>\n",
       "      <td>VANDALISM - FELONY ($400 &amp; OVER, ALL CHURCH VA...</td>\n",
       "      <td>LA</td>\n",
       "    </tr>\n",
       "    <tr>\n",
       "      <th>2</th>\n",
       "      <td>70309629</td>\n",
       "      <td>08/09/2010 12:00:00 AM</td>\n",
       "      <td>1515</td>\n",
       "      <td>Newton</td>\n",
       "      <td>OTHER MISCELLANEOUS CRIME</td>\n",
       "      <td>LA</td>\n",
       "    </tr>\n",
       "    <tr>\n",
       "      <th>3</th>\n",
       "      <td>90631215</td>\n",
       "      <td>01/05/2010 12:00:00 AM</td>\n",
       "      <td>150</td>\n",
       "      <td>Hollywood</td>\n",
       "      <td>VIOLATION OF COURT ORDER</td>\n",
       "      <td>LA</td>\n",
       "    </tr>\n",
       "    <tr>\n",
       "      <th>4</th>\n",
       "      <td>100100501</td>\n",
       "      <td>01/02/2010 12:00:00 AM</td>\n",
       "      <td>2100</td>\n",
       "      <td>Central</td>\n",
       "      <td>RAPE, ATTEMPTED</td>\n",
       "      <td>LA</td>\n",
       "    </tr>\n",
       "  </tbody>\n",
       "</table>\n",
       "</div>"
      ],
      "text/plain": [
       "   Record Number                    Date  Time Occured  Area Name  \\\n",
       "0        1307355  02/20/2010 12:00:00 AM          1350     Newton   \n",
       "1       11401303  09/12/2010 12:00:00 AM            45    Pacific   \n",
       "2       70309629  08/09/2010 12:00:00 AM          1515     Newton   \n",
       "3       90631215  01/05/2010 12:00:00 AM           150  Hollywood   \n",
       "4      100100501  01/02/2010 12:00:00 AM          2100    Central   \n",
       "\n",
       "                                                Desc City  \n",
       "0                           VIOLATION OF COURT ORDER   LA  \n",
       "1  VANDALISM - FELONY ($400 & OVER, ALL CHURCH VA...   LA  \n",
       "2                          OTHER MISCELLANEOUS CRIME   LA  \n",
       "3                           VIOLATION OF COURT ORDER   LA  \n",
       "4                                    RAPE, ATTEMPTED   LA  "
      ]
     },
     "execution_count": 155,
     "metadata": {},
     "output_type": "execute_result"
    }
   ],
   "source": [
    "#cleaning up LA\n",
    "df_LA = df_LA.iloc[:,:10]\n",
    "LAcolnames = [\"Record Number\", \"Date Reported\", \"Date\", \"Time Occured\", \"Area Number\", \"Area Name\", \"District Number\", \"Part 1-2\", \"Crm Cd\", \"Desc\"]\n",
    "df_LA.columns = LAcolnames\n",
    "df_LA = df_LA.drop(columns = [\"Date Reported\", \"Area Number\", \"District Number\", \"Part 1-2\", \"Crm Cd\"])\n",
    "df_LA[\"City\"] = \"LA\"\n",
    "df_LA.head()"
   ]
  },
  {
   "cell_type": "code",
   "execution_count": 156,
   "metadata": {},
   "outputs": [
    {
     "data": {
      "text/html": [
       "<div>\n",
       "<style scoped>\n",
       "    .dataframe tbody tr th:only-of-type {\n",
       "        vertical-align: middle;\n",
       "    }\n",
       "\n",
       "    .dataframe tbody tr th {\n",
       "        vertical-align: top;\n",
       "    }\n",
       "\n",
       "    .dataframe thead th {\n",
       "        text-align: right;\n",
       "    }\n",
       "</style>\n",
       "<table border=\"1\" class=\"dataframe\">\n",
       "  <thead>\n",
       "    <tr style=\"text-align: right;\">\n",
       "      <th></th>\n",
       "      <th>Date</th>\n",
       "      <th>Desc</th>\n",
       "      <th>City</th>\n",
       "    </tr>\n",
       "  </thead>\n",
       "  <tbody>\n",
       "    <tr>\n",
       "      <th>0</th>\n",
       "      <td>2019-01-26</td>\n",
       "      <td>SEX CRIMES</td>\n",
       "      <td>NYC</td>\n",
       "    </tr>\n",
       "    <tr>\n",
       "      <th>1</th>\n",
       "      <td>2019-02-06</td>\n",
       "      <td>CONTROLLED SUBSTANCES OFFENSES</td>\n",
       "      <td>NYC</td>\n",
       "    </tr>\n",
       "    <tr>\n",
       "      <th>2</th>\n",
       "      <td>2016-01-06</td>\n",
       "      <td>RAPE</td>\n",
       "      <td>NYC</td>\n",
       "    </tr>\n",
       "    <tr>\n",
       "      <th>3</th>\n",
       "      <td>2018-11-15</td>\n",
       "      <td>RAPE</td>\n",
       "      <td>NYC</td>\n",
       "    </tr>\n",
       "    <tr>\n",
       "      <th>4</th>\n",
       "      <td>2006-09-13</td>\n",
       "      <td>CRIMINAL TRESPASS</td>\n",
       "      <td>NYC</td>\n",
       "    </tr>\n",
       "  </tbody>\n",
       "</table>\n",
       "</div>"
      ],
      "text/plain": [
       "         Date                            Desc City\n",
       "0  2019-01-26                      SEX CRIMES  NYC\n",
       "1  2019-02-06  CONTROLLED SUBSTANCES OFFENSES  NYC\n",
       "2  2016-01-06                            RAPE  NYC\n",
       "3  2018-11-15                            RAPE  NYC\n",
       "4  2006-09-13               CRIMINAL TRESPASS  NYC"
      ]
     },
     "execution_count": 156,
     "metadata": {},
     "output_type": "execute_result"
    }
   ],
   "source": [
    "#cleaning up NYC\n",
    "df_NYC = df_NYC.iloc[:,2:5]\n",
    "df_NYC = df_NYC.drop(columns = \"pd_desc\")\n",
    "NYCcolumns = [\"Date\", \"Desc\"]\n",
    "df_NYC.columns = NYCcolumns\n",
    "df_NYC[\"City\"] = \"NYC\"\n",
    "df_NYC.head()"
   ]
  },
  {
   "cell_type": "code",
   "execution_count": 157,
   "metadata": {},
   "outputs": [],
   "source": [
    "#add year column to LA, make the year column an int\n",
    "year = []\n",
    "for i in df_LA[\"Date\"]:\n",
    "    y = i.split()[0]\n",
    "    y = y[-4:]\n",
    "    year.append(int(y))\n",
    "    \n",
    "df_LA[\"Year\"] = year"
   ]
  },
  {
   "cell_type": "code",
   "execution_count": 158,
   "metadata": {},
   "outputs": [],
   "source": [
    "#add year column to NYC, make the year column an int\n",
    "year = []\n",
    "for i in df_NYC[\"Date\"]:\n",
    "    y = i[:4]\n",
    "    year.append(int(y))\n",
    "    \n",
    "df_NYC[\"Year\"] = year"
   ]
  },
  {
   "cell_type": "code",
   "execution_count": 159,
   "metadata": {},
   "outputs": [],
   "source": [
    "#remove everything from before 2010 in NYC df\n",
    "df_NYC = df_NYC.loc[df_NYC[\"Year\"]>2009]"
   ]
  },
  {
   "cell_type": "code",
   "execution_count": 160,
   "metadata": {},
   "outputs": [
    {
     "data": {
      "text/html": [
       "<div>\n",
       "<style scoped>\n",
       "    .dataframe tbody tr th:only-of-type {\n",
       "        vertical-align: middle;\n",
       "    }\n",
       "\n",
       "    .dataframe tbody tr th {\n",
       "        vertical-align: top;\n",
       "    }\n",
       "\n",
       "    .dataframe thead th {\n",
       "        text-align: right;\n",
       "    }\n",
       "</style>\n",
       "<table border=\"1\" class=\"dataframe\">\n",
       "  <thead>\n",
       "    <tr style=\"text-align: right;\">\n",
       "      <th></th>\n",
       "      <th>Date</th>\n",
       "      <th>Desc</th>\n",
       "      <th>City</th>\n",
       "      <th>Year</th>\n",
       "    </tr>\n",
       "  </thead>\n",
       "  <tbody>\n",
       "    <tr>\n",
       "      <th>0</th>\n",
       "      <td>02/20/2010 12:00:00 AM</td>\n",
       "      <td>VIOLATION OF COURT ORDER</td>\n",
       "      <td>LA</td>\n",
       "      <td>2010</td>\n",
       "    </tr>\n",
       "    <tr>\n",
       "      <th>1</th>\n",
       "      <td>02/20/2010 12:00:00 AM</td>\n",
       "      <td>VIOLATION OF COURT ORDER</td>\n",
       "      <td>LA</td>\n",
       "      <td>2010</td>\n",
       "    </tr>\n",
       "    <tr>\n",
       "      <th>2</th>\n",
       "      <td>02/20/2010 12:00:00 AM</td>\n",
       "      <td>VIOLATION OF COURT ORDER</td>\n",
       "      <td>LA</td>\n",
       "      <td>2010</td>\n",
       "    </tr>\n",
       "    <tr>\n",
       "      <th>3</th>\n",
       "      <td>02/20/2010 12:00:00 AM</td>\n",
       "      <td>VIOLATION OF COURT ORDER</td>\n",
       "      <td>LA</td>\n",
       "      <td>2010</td>\n",
       "    </tr>\n",
       "    <tr>\n",
       "      <th>4</th>\n",
       "      <td>02/20/2010 12:00:00 AM</td>\n",
       "      <td>VIOLATION OF COURT ORDER</td>\n",
       "      <td>LA</td>\n",
       "      <td>2010</td>\n",
       "    </tr>\n",
       "  </tbody>\n",
       "</table>\n",
       "</div>"
      ],
      "text/plain": [
       "                     Date                      Desc City  Year\n",
       "0  02/20/2010 12:00:00 AM  VIOLATION OF COURT ORDER   LA  2010\n",
       "1  02/20/2010 12:00:00 AM  VIOLATION OF COURT ORDER   LA  2010\n",
       "2  02/20/2010 12:00:00 AM  VIOLATION OF COURT ORDER   LA  2010\n",
       "3  02/20/2010 12:00:00 AM  VIOLATION OF COURT ORDER   LA  2010\n",
       "4  02/20/2010 12:00:00 AM  VIOLATION OF COURT ORDER   LA  2010"
      ]
     },
     "execution_count": 160,
     "metadata": {},
     "output_type": "execute_result"
    }
   ],
   "source": [
    "#create a combined DF\n",
    "df_merged = df_LA.merge(df_NYC, how=\"outer\")\n",
    "df_merged = df_merged.drop(columns = [\"Time Occured\", \"Area Name\", \"Record Number\"])\n",
    "df_merged.head()"
   ]
  },
  {
   "cell_type": "markdown",
   "metadata": {},
   "source": [
    "## LA and NYC Analysis"
   ]
  },
  {
   "cell_type": "markdown",
   "metadata": {},
   "source": [
    "When was crime most prevalent in both cities?"
   ]
  },
  {
   "cell_type": "code",
   "execution_count": 161,
   "metadata": {},
   "outputs": [
    {
     "data": {
      "text/plain": [
       "<matplotlib.axes._subplots.AxesSubplot at 0x2ffbd80b8>"
      ]
     },
     "execution_count": 161,
     "metadata": {},
     "output_type": "execute_result"
    },
    {
     "data": {
      "image/png": "[encoded data removed]",
      "text/plain": [
       "<Figure size 432x288 with 1 Axes>"
      ]
     },
     "metadata": {
      "needs_background": "light"
     },
     "output_type": "display_data"
    }
   ],
   "source": [
    "df_merged.groupby('Year').count().plot(kind='line', legend=False)"
   ]
  },
  {
   "cell_type": "markdown",
   "metadata": {},
   "source": [
    "What were the top 10 most common crimes across both cities?"
   ]
  },
  {
   "cell_type": "code",
   "execution_count": 170,
   "metadata": {},
   "outputs": [
    {
     "data": {
      "text/plain": [
       "DANGEROUS DRUGS                       507493\n",
       "ASSAULT 3 & RELATED OFFENSES          276060\n",
       "BATTERY - SIMPLE ASSAULT              190551\n",
       "BURGLARY                              184308\n",
       "OTHER OFFENSES RELATED TO THEFT       179166\n",
       "ROBBERY                               164438\n",
       "BURGLARY FROM VEHICLE                 162182\n",
       "VEHICLE - STOLEN                      159893\n",
       "THEFT PLAIN - PETTY ($950 & UNDER)    149874\n",
       "PETIT LARCENY                         140864\n",
       "Name: Desc, dtype: int64"
      ]
     },
     "execution_count": 170,
     "metadata": {},
     "output_type": "execute_result"
    }
   ],
   "source": [
    "df_merged[\"Desc\"].value_counts()[:10]"
   ]
  },
  {
   "cell_type": "code",
   "execution_count": 167,
   "metadata": {},
   "outputs": [
    {
     "data": {
      "text/plain": [
       "Text(0, 0.5, 'Crime Count')"
      ]
     },
     "execution_count": 167,
     "metadata": {},
     "output_type": "execute_result"
    },
    {
     "data": {
      "image/png": "[encoded data removed]",
      "text/plain": [
       "<Figure size 432x288 with 1 Axes>"
      ]
     },
     "metadata": {
      "needs_background": "light"
     },
     "output_type": "display_data"
    }
   ],
   "source": [
    "#find the crime count for each year by city\n",
    "from matplotlib import pyplot as plt\n",
    "\n",
    "LA_Counts = df_LA.groupby('Year').count()\n",
    "NYC_Counts = df_NYC.groupby(\"Year\").count()\n",
    "\n",
    "plt.plot(LA_Counts[\"Record Number\"], label=\"LA Crime Counts\")\n",
    "plt.plot(NYC_Counts[\"City\"], label=\"NYC Crime Counts\")\n",
    "plt.legend()\n",
    "plt.xlabel(\"Year\")\n",
    "plt.ylabel(\"Crime Count\")"
   ]
  },
  {
   "cell_type": "markdown",
   "metadata": {},
   "source": [
    "NYC seems to be declining while LA is increasing, howevver NYC seems to have a higher volume until 2017"
   ]
  },
  {
   "cell_type": "markdown",
   "metadata": {},
   "source": [
    "## A look at LA climbing Crime Rate"
   ]
  },
  {
   "cell_type": "code",
   "execution_count": 166,
   "metadata": {},
   "outputs": [
    {
     "data": {
      "text/plain": [
       "<matplotlib.axes._subplots.AxesSubplot at 0x26309c588>"
      ]
     },
     "execution_count": 166,
     "metadata": {},
     "output_type": "execute_result"
    },
    {
     "data": {
      "image/png": "[encoded data removed]",
      "text/plain": [
       "<Figure size 432x288 with 1 Axes>"
      ]
     },
     "metadata": {
      "needs_background": "light"
     },
     "output_type": "display_data"
    }
   ],
   "source": [
    "#just LA\n",
    "df_LA.groupby('Year').count().plot(kind='line', legend=False)"
   ]
  },
  {
   "cell_type": "markdown",
   "metadata": {},
   "source": [
    "LA crime peaked in 2017"
   ]
  },
  {
   "cell_type": "code",
   "execution_count": 172,
   "metadata": {},
   "outputs": [
    {
     "data": {
      "text/plain": [
       "BATTERY - SIMPLE ASSAULT              19092\n",
       "VEHICLE - STOLEN                      18791\n",
       "BURGLARY FROM VEHICLE                 18067\n",
       "BURGLARY                              15300\n",
       "THEFT PLAIN - PETTY ($950 & UNDER)    14746\n",
       "Name: Desc, dtype: int64"
      ]
     },
     "execution_count": 172,
     "metadata": {},
     "output_type": "execute_result"
    }
   ],
   "source": [
    "#most popular crimes in LA 2017\n",
    "LA2017 = df_LA.loc[df_LA[\"Year\"]==2017]\n",
    "LA2017[\"Desc\"].value_counts()[:5]"
   ]
  },
  {
   "cell_type": "code",
   "execution_count": 169,
   "metadata": {},
   "outputs": [
    {
     "data": {
      "text/plain": [
       "BATTERY - SIMPLE ASSAULT              190551\n",
       "BURGLARY FROM VEHICLE                 162182\n",
       "VEHICLE - STOLEN                      159893\n",
       "THEFT PLAIN - PETTY ($950 & UNDER)    149874\n",
       "BURGLARY                              147716\n",
       "Name: Desc, dtype: int64"
      ]
     },
     "execution_count": 169,
     "metadata": {},
     "output_type": "execute_result"
    }
   ],
   "source": [
    "#most popular crimes in LA overall\n",
    "df_LA[\"Desc\"].value_counts()[:5]"
   ]
  },
  {
   "cell_type": "code",
   "execution_count": 173,
   "metadata": {},
   "outputs": [
    {
     "data": {
      "text/plain": [
       "BATTERY - SIMPLE ASSAULT              133136\n",
       "BURGLARY FROM VEHICLE                 109349\n",
       "VEHICLE - STOLEN                      108710\n",
       "BURGLARY                              104922\n",
       "THEFT PLAIN - PETTY ($950 & UNDER)    104311\n",
       "Name: Desc, dtype: int64"
      ]
     },
     "execution_count": 173,
     "metadata": {},
     "output_type": "execute_result"
    }
   ],
   "source": [
    "#most popular crimes in LA before 2017\n",
    "LApre2017 = df_LA.loc[df_LA[\"Year\"]<2017]\n",
    "LApre2017[\"Desc\"].value_counts()[:5]"
   ]
  },
  {
   "cell_type": "markdown",
   "metadata": {},
   "source": [
    "It looks like the main crimes in LA have always been similar (no huge changes in 2017) -- Battery, Burglary, Stolen Vehicles and Petty Theft"
   ]
  },
  {
   "cell_type": "markdown",
   "metadata": {},
   "source": [
    "Now lets compare this to the most common crimes in NYC"
   ]
  },
  {
   "cell_type": "code",
   "execution_count": 174,
   "metadata": {},
   "outputs": [
    {
     "data": {
      "text/plain": [
       "DANGEROUS DRUGS                    507493\n",
       "ASSAULT 3 & RELATED OFFENSES       276060\n",
       "OTHER OFFENSES RELATED TO THEFT    179166\n",
       "PETIT LARCENY                      140864\n",
       "VEHICLE AND TRAFFIC LAWS           134653\n",
       "Name: Desc, dtype: int64"
      ]
     },
     "execution_count": 174,
     "metadata": {},
     "output_type": "execute_result"
    }
   ],
   "source": [
    "df_NYC[\"Desc\"].value_counts()[:5]"
   ]
  },
  {
   "cell_type": "markdown",
   "metadata": {},
   "source": [
    "## A look at Burglary in LA"
   ]
  },
  {
   "cell_type": "code",
   "execution_count": 177,
   "metadata": {},
   "outputs": [
    {
     "data": {
      "text/plain": [
       "['BURGLARY FROM VEHICLE', 'BURGLARY', 'BURGLARY FROM VEHICLE, ATTEMPTED']"
      ]
     },
     "execution_count": 177,
     "metadata": {},
     "output_type": "execute_result"
    }
   ],
   "source": [
    "#get a list of the burglary related crimes\n",
    "burglary_list = []\n",
    "for i in df_LA[\"Desc\"]:\n",
    "    crime = i.split()\n",
    "    if i in burglary_list:\n",
    "        continue\n",
    "    else:\n",
    "        if \"BURGLARY\" in crime:\n",
    "            burglary_list.append(i)\n",
    "        else:\n",
    "            continue\n",
    "            \n",
    "burglary_list"
   ]
  },
  {
   "cell_type": "code",
   "execution_count": 184,
   "metadata": {},
   "outputs": [
    {
     "data": {
      "text/html": [
       "<div>\n",
       "<style scoped>\n",
       "    .dataframe tbody tr th:only-of-type {\n",
       "        vertical-align: middle;\n",
       "    }\n",
       "\n",
       "    .dataframe tbody tr th {\n",
       "        vertical-align: top;\n",
       "    }\n",
       "\n",
       "    .dataframe thead th {\n",
       "        text-align: right;\n",
       "    }\n",
       "</style>\n",
       "<table border=\"1\" class=\"dataframe\">\n",
       "  <thead>\n",
       "    <tr style=\"text-align: right;\">\n",
       "      <th></th>\n",
       "      <th>Record Number</th>\n",
       "      <th>Date</th>\n",
       "      <th>Time Occured</th>\n",
       "      <th>Area Name</th>\n",
       "      <th>Desc</th>\n",
       "      <th>City</th>\n",
       "      <th>Year</th>\n",
       "    </tr>\n",
       "  </thead>\n",
       "  <tbody>\n",
       "    <tr>\n",
       "      <th>0</th>\n",
       "      <td>100100508</td>\n",
       "      <td>01/07/2010 12:00:00 AM</td>\n",
       "      <td>2005</td>\n",
       "      <td>Central</td>\n",
       "      <td>BURGLARY FROM VEHICLE</td>\n",
       "      <td>LA</td>\n",
       "      <td>2010</td>\n",
       "    </tr>\n",
       "    <tr>\n",
       "      <th>1</th>\n",
       "      <td>100100564</td>\n",
       "      <td>01/29/2010 12:00:00 AM</td>\n",
       "      <td>1630</td>\n",
       "      <td>Central</td>\n",
       "      <td>BURGLARY FROM VEHICLE</td>\n",
       "      <td>LA</td>\n",
       "      <td>2010</td>\n",
       "    </tr>\n",
       "    <tr>\n",
       "      <th>2</th>\n",
       "      <td>100100591</td>\n",
       "      <td>02/08/2010 12:00:00 AM</td>\n",
       "      <td>1625</td>\n",
       "      <td>Central</td>\n",
       "      <td>BURGLARY FROM VEHICLE</td>\n",
       "      <td>LA</td>\n",
       "      <td>2010</td>\n",
       "    </tr>\n",
       "    <tr>\n",
       "      <th>3</th>\n",
       "      <td>100100731</td>\n",
       "      <td>03/21/2010 12:00:00 AM</td>\n",
       "      <td>320</td>\n",
       "      <td>Central</td>\n",
       "      <td>BURGLARY FROM VEHICLE</td>\n",
       "      <td>LA</td>\n",
       "      <td>2010</td>\n",
       "    </tr>\n",
       "    <tr>\n",
       "      <th>4</th>\n",
       "      <td>100100804</td>\n",
       "      <td>04/15/2010 12:00:00 AM</td>\n",
       "      <td>335</td>\n",
       "      <td>Central</td>\n",
       "      <td>BURGLARY FROM VEHICLE</td>\n",
       "      <td>LA</td>\n",
       "      <td>2010</td>\n",
       "    </tr>\n",
       "    <tr>\n",
       "      <th>...</th>\n",
       "      <td>...</td>\n",
       "      <td>...</td>\n",
       "      <td>...</td>\n",
       "      <td>...</td>\n",
       "      <td>...</td>\n",
       "      <td>...</td>\n",
       "      <td>...</td>\n",
       "    </tr>\n",
       "    <tr>\n",
       "      <th>312739</th>\n",
       "      <td>191208454</td>\n",
       "      <td>03/06/2019 12:00:00 AM</td>\n",
       "      <td>1730</td>\n",
       "      <td>77th Street</td>\n",
       "      <td>BURGLARY FROM VEHICLE, ATTEMPTED</td>\n",
       "      <td>LA</td>\n",
       "      <td>2019</td>\n",
       "    </tr>\n",
       "    <tr>\n",
       "      <th>312740</th>\n",
       "      <td>191514662</td>\n",
       "      <td>07/23/2019 12:00:00 AM</td>\n",
       "      <td>300</td>\n",
       "      <td>N Hollywood</td>\n",
       "      <td>BURGLARY FROM VEHICLE, ATTEMPTED</td>\n",
       "      <td>LA</td>\n",
       "      <td>2019</td>\n",
       "    </tr>\n",
       "    <tr>\n",
       "      <th>312741</th>\n",
       "      <td>191416342</td>\n",
       "      <td>07/17/2019 12:00:00 AM</td>\n",
       "      <td>930</td>\n",
       "      <td>Pacific</td>\n",
       "      <td>BURGLARY FROM VEHICLE, ATTEMPTED</td>\n",
       "      <td>LA</td>\n",
       "      <td>2019</td>\n",
       "    </tr>\n",
       "    <tr>\n",
       "      <th>312742</th>\n",
       "      <td>191805136</td>\n",
       "      <td>01/18/2019 12:00:00 AM</td>\n",
       "      <td>2200</td>\n",
       "      <td>Southeast</td>\n",
       "      <td>BURGLARY FROM VEHICLE, ATTEMPTED</td>\n",
       "      <td>LA</td>\n",
       "      <td>2019</td>\n",
       "    </tr>\n",
       "    <tr>\n",
       "      <th>312743</th>\n",
       "      <td>190712277</td>\n",
       "      <td>06/17/2019 12:00:00 AM</td>\n",
       "      <td>200</td>\n",
       "      <td>Wilshire</td>\n",
       "      <td>BURGLARY FROM VEHICLE, ATTEMPTED</td>\n",
       "      <td>LA</td>\n",
       "      <td>2019</td>\n",
       "    </tr>\n",
       "  </tbody>\n",
       "</table>\n",
       "<p>312744 rows × 7 columns</p>\n",
       "</div>"
      ],
      "text/plain": [
       "        Record Number                    Date  Time Occured    Area Name  \\\n",
       "0           100100508  01/07/2010 12:00:00 AM          2005      Central   \n",
       "1           100100564  01/29/2010 12:00:00 AM          1630      Central   \n",
       "2           100100591  02/08/2010 12:00:00 AM          1625      Central   \n",
       "3           100100731  03/21/2010 12:00:00 AM           320      Central   \n",
       "4           100100804  04/15/2010 12:00:00 AM           335      Central   \n",
       "...               ...                     ...           ...          ...   \n",
       "312739      191208454  03/06/2019 12:00:00 AM          1730  77th Street   \n",
       "312740      191514662  07/23/2019 12:00:00 AM           300  N Hollywood   \n",
       "312741      191416342  07/17/2019 12:00:00 AM           930      Pacific   \n",
       "312742      191805136  01/18/2019 12:00:00 AM          2200    Southeast   \n",
       "312743      190712277  06/17/2019 12:00:00 AM           200     Wilshire   \n",
       "\n",
       "                                    Desc City  Year  \n",
       "0                  BURGLARY FROM VEHICLE   LA  2010  \n",
       "1                  BURGLARY FROM VEHICLE   LA  2010  \n",
       "2                  BURGLARY FROM VEHICLE   LA  2010  \n",
       "3                  BURGLARY FROM VEHICLE   LA  2010  \n",
       "4                  BURGLARY FROM VEHICLE   LA  2010  \n",
       "...                                  ...  ...   ...  \n",
       "312739  BURGLARY FROM VEHICLE, ATTEMPTED   LA  2019  \n",
       "312740  BURGLARY FROM VEHICLE, ATTEMPTED   LA  2019  \n",
       "312741  BURGLARY FROM VEHICLE, ATTEMPTED   LA  2019  \n",
       "312742  BURGLARY FROM VEHICLE, ATTEMPTED   LA  2019  \n",
       "312743  BURGLARY FROM VEHICLE, ATTEMPTED   LA  2019  \n",
       "\n",
       "[312744 rows x 7 columns]"
      ]
     },
     "execution_count": 184,
     "metadata": {},
     "output_type": "execute_result"
    }
   ],
   "source": [
    "BL0 = df_LA.loc[df_LA[\"Desc\"] == burglary_list[0]]\n",
    "BL1 = df_LA.loc[df_LA[\"Desc\"] == burglary_list[1]]\n",
    "BL2 = df_LA.loc[df_LA[\"Desc\"] == burglary_list[2]]\n",
    "BC = BL0.merge(BL1, how=\"outer\")\n",
    "burglary_crimes_LA = BC.merge(BL2, how=\"outer\")\n",
    "burglary_crimes_LA"
   ]
  },
  {
   "cell_type": "markdown",
   "metadata": {},
   "source": [
    "show burglary over time"
   ]
  },
  {
   "cell_type": "code",
   "execution_count": 185,
   "metadata": {},
   "outputs": [
    {
     "data": {
      "text/plain": [
       "<matplotlib.axes._subplots.AxesSubplot at 0x3016ac9b0>"
      ]
     },
     "execution_count": 185,
     "metadata": {},
     "output_type": "execute_result"
    },
    {
     "data": {
      "image/png": "[encoded data removed]",
      "text/plain": [
       "<Figure size 432x288 with 1 Axes>"
      ]
     },
     "metadata": {
      "needs_background": "light"
     },
     "output_type": "display_data"
    }
   ],
   "source": [
    "burglary_crimes_LA.groupby('Year').count().plot(kind='line', legend=False)"
   ]
  },
  {
   "cell_type": "markdown",
   "metadata": {},
   "source": [
    "2014 dipped in burglary, what was the most common crime then?"
   ]
  },
  {
   "cell_type": "code",
   "execution_count": 186,
   "metadata": {},
   "outputs": [
    {
     "data": {
      "text/plain": [
       "BATTERY - SIMPLE ASSAULT              18414\n",
       "THEFT PLAIN - PETTY ($950 & UNDER)    15750\n",
       "BURGLARY                              13963\n",
       "VEHICLE - STOLEN                      13699\n",
       "BURGLARY FROM VEHICLE                 13080\n",
       "Name: Desc, dtype: int64"
      ]
     },
     "execution_count": 186,
     "metadata": {},
     "output_type": "execute_result"
    }
   ],
   "source": [
    "df_LA.loc[df_LA[\"Year\"]==2014][\"Desc\"].value_counts()[:5]"
   ]
  },
  {
   "cell_type": "markdown",
   "metadata": {},
   "source": [
    "plot the top 10 crimes in LA"
   ]
  },
  {
   "cell_type": "code",
   "execution_count": 193,
   "metadata": {},
   "outputs": [
    {
     "data": {
      "text/plain": [
       "<matplotlib.axes._subplots.AxesSubplot at 0x307fde828>"
      ]
     },
     "execution_count": 193,
     "metadata": {},
     "output_type": "execute_result"
    },
    {
     "data": {
      "image/png": "[encoded data removed]",
      "text/plain": [
       "<Figure size 432x288 with 1 Axes>"
      ]
     },
     "metadata": {},
     "output_type": "display_data"
    }
   ],
   "source": [
    "df_LA[\"Desc\"].value_counts()[:10].plot(kind=\"pie\")"
   ]
  },
  {
   "cell_type": "markdown",
   "metadata": {},
   "source": []
  },
  {
   "cell_type": "code",
   "execution_count": 209,
   "metadata": {},
   "outputs": [
    {
     "ename": "ModuleNotFoundError",
     "evalue": "No module named 'snscrape'",
     "output_type": "error",
     "traceback": [
      "\u001b[0;31m---------------------------------------------------------------------------\u001b[0m",
      "\u001b[0;31mModuleNotFoundError\u001b[0m                       Traceback (most recent call last)",
      "\u001b[0;32m<ipython-input-209-da0f0c3452db>\u001b[0m in \u001b[0;36m<module>\u001b[0;34m\u001b[0m\n\u001b[0;32m----> 1\u001b[0;31m \u001b[0;32mimport\u001b[0m \u001b[0msnscrape\u001b[0m\u001b[0;34m.\u001b[0m\u001b[0mmodules\u001b[0m\u001b[0;34m.\u001b[0m\u001b[0mtwitter\u001b[0m \u001b[0;32mas\u001b[0m \u001b[0msntwitter\u001b[0m\u001b[0;34m\u001b[0m\u001b[0;34m\u001b[0m\u001b[0m\n\u001b[0m",
      "\u001b[0;31mModuleNotFoundError\u001b[0m: No module named 'snscrape'"
     ]
    }
   ],
   "source": []
  },
  {
   "cell_type": "code",
   "execution_count": null,
   "metadata": {},
   "outputs": [],
   "source": []
  },
  {
   "cell_type": "code",
   "execution_count": null,
   "metadata": {},
   "outputs": [],
   "source": []
  }
 ],
 "metadata": {
  "kernelspec": {
   "display_name": "Python 3",
   "language": "python",
   "name": "python3"
  },
  "language_info": {
   "codemirror_mode": {
    "name": "ipython",
    "version": 3
   },
   "file_extension": ".py",
   "mimetype": "text/x-python",
   "name": "python",
   "nbconvert_exporter": "python",
   "pygments_lexer": "ipython3",
   "version": "3.6.8"
  }
 },
 "nbformat": 4,
 "nbformat_minor": 2
}
