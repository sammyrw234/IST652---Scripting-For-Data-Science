{
 "cells": [
  {
   "cell_type": "code",
   "execution_count": 1,
   "id": "0a19772d",
   "metadata": {},
   "outputs": [],
   "source": [
    "import snscrape.modules.twitter as sntwitter\n",
    "import pandas as pd"
   ]
  },
  {
   "cell_type": "code",
   "execution_count": 69,
   "id": "56174789",
   "metadata": {},
   "outputs": [],
   "source": [
    "#creating a list of tweets from LA for the second half of 2017 (english only)\n",
    "#looking at burglary keywords\n",
    "tweets_list = []\n",
    "\n",
    "#find tweets that include the brand glossier or #glossier\n",
    "query = '''burglary OR burglar OR burglarized OR stolen OR stole until:2017-12-31 since:2017-01-01 lang:en near:\"Los Angeles\"'''\n",
    "\n",
    "for i, tweet in enumerate(sntwitter.TwitterSearchScraper(query=query).get_items()):\n",
    "        if i > 5000: \n",
    "            break\n",
    "        tweets_list.append([tweet.date, tweet.id, tweet.content, tweet.user.username, tweet.likeCount, tweet.retweetCount])"
   ]
  },
  {
   "cell_type": "code",
   "execution_count": 70,
   "id": "4313d49e",
   "metadata": {},
   "outputs": [
    {
     "data": {
      "text/plain": [
       "5415"
      ]
     },
     "execution_count": 70,
     "metadata": {},
     "output_type": "execute_result"
    }
   ],
   "source": [
    "len(tweets_list)"
   ]
  },
  {
   "cell_type": "code",
   "execution_count": 72,
   "id": "c71e740a",
   "metadata": {},
   "outputs": [
    {
     "data": {
      "text/html": [
       "<div>\n",
       "<style scoped>\n",
       "    .dataframe tbody tr th:only-of-type {\n",
       "        vertical-align: middle;\n",
       "    }\n",
       "\n",
       "    .dataframe tbody tr th {\n",
       "        vertical-align: top;\n",
       "    }\n",
       "\n",
       "    .dataframe thead th {\n",
       "        text-align: right;\n",
       "    }\n",
       "</style>\n",
       "<table border=\"1\" class=\"dataframe\">\n",
       "  <thead>\n",
       "    <tr style=\"text-align: right;\">\n",
       "      <th></th>\n",
       "      <th>Date</th>\n",
       "      <th>Tweet Id</th>\n",
       "      <th>Text</th>\n",
       "      <th>User</th>\n",
       "      <th>Likes</th>\n",
       "      <th>Retweets</th>\n",
       "    </tr>\n",
       "  </thead>\n",
       "  <tbody>\n",
       "    <tr>\n",
       "      <th>0</th>\n",
       "      <td>2017-12-30 21:57:58+00:00</td>\n",
       "      <td>947225272117370880</td>\n",
       "      <td>🚨 WILSHIRE/FAIRFAX AREA 🚨 Some random man stol...</td>\n",
       "      <td>JennieMelissa</td>\n",
       "      <td>3</td>\n",
       "      <td>0</td>\n",
       "    </tr>\n",
       "    <tr>\n",
       "      <th>1</th>\n",
       "      <td>2017-12-30 21:52:41+00:00</td>\n",
       "      <td>947223942955122689</td>\n",
       "      <td>@DevinColson I loved bad ape. Stole all the sc...</td>\n",
       "      <td>The_5th_Turtle</td>\n",
       "      <td>1</td>\n",
       "      <td>0</td>\n",
       "    </tr>\n",
       "    <tr>\n",
       "      <th>2</th>\n",
       "      <td>2017-12-30 21:36:21+00:00</td>\n",
       "      <td>947219832440844288</td>\n",
       "      <td>congratulations Dwayne \"The rock\" Johnson's da...</td>\n",
       "      <td>johnlawofficial</td>\n",
       "      <td>0</td>\n",
       "      <td>0</td>\n",
       "    </tr>\n",
       "    <tr>\n",
       "      <th>3</th>\n",
       "      <td>2017-12-30 20:01:23+00:00</td>\n",
       "      <td>947195935884324864</td>\n",
       "      <td>Thinking about how in the future people could ...</td>\n",
       "      <td>erinyasgar</td>\n",
       "      <td>0</td>\n",
       "      <td>0</td>\n",
       "    </tr>\n",
       "    <tr>\n",
       "      <th>4</th>\n",
       "      <td>2017-12-30 19:54:50+00:00</td>\n",
       "      <td>947194287313129472</td>\n",
       "      <td>My phone has been stolen. If you need to reach...</td>\n",
       "      <td>kevkrav</td>\n",
       "      <td>1</td>\n",
       "      <td>0</td>\n",
       "    </tr>\n",
       "  </tbody>\n",
       "</table>\n",
       "</div>"
      ],
      "text/plain": [
       "                       Date            Tweet Id  \\\n",
       "0 2017-12-30 21:57:58+00:00  947225272117370880   \n",
       "1 2017-12-30 21:52:41+00:00  947223942955122689   \n",
       "2 2017-12-30 21:36:21+00:00  947219832440844288   \n",
       "3 2017-12-30 20:01:23+00:00  947195935884324864   \n",
       "4 2017-12-30 19:54:50+00:00  947194287313129472   \n",
       "\n",
       "                                                Text             User  Likes  \\\n",
       "0  🚨 WILSHIRE/FAIRFAX AREA 🚨 Some random man stol...    JennieMelissa      3   \n",
       "1  @DevinColson I loved bad ape. Stole all the sc...   The_5th_Turtle      1   \n",
       "2  congratulations Dwayne \"The rock\" Johnson's da...  johnlawofficial      0   \n",
       "3  Thinking about how in the future people could ...       erinyasgar      0   \n",
       "4  My phone has been stolen. If you need to reach...          kevkrav      1   \n",
       "\n",
       "   Retweets  \n",
       "0         0  \n",
       "1         0  \n",
       "2         0  \n",
       "3         0  \n",
       "4         0  "
      ]
     },
     "execution_count": 72,
     "metadata": {},
     "output_type": "execute_result"
    }
   ],
   "source": [
    "tweets_df = pd.DataFrame(tweets_list, columns=['Date', 'Tweet Id', 'Text', 'User', 'Likes', 'Retweets'])\n",
    "tweets_df.head()"
   ]
  },
  {
   "cell_type": "code",
   "execution_count": 73,
   "id": "31780a07",
   "metadata": {},
   "outputs": [],
   "source": [
    "#find all hashtags and @ mentions used\n",
    "hashtag_list = []\n",
    "\n",
    "for tweet in tweets_list:\n",
    "    for word in tweet[2].split():\n",
    "        if word.startswith('#'):\n",
    "            hashtag_list.append(word)\n",
    "        else:\n",
    "            continue"
   ]
  },
  {
   "cell_type": "code",
   "execution_count": 74,
   "id": "e001b5c7",
   "metadata": {},
   "outputs": [],
   "source": [
    "#find counts of each hashtags and sort them by most used\n",
    "unique_hashtags = []\n",
    "hashtag_counts = []\n",
    "\n",
    "for word in hashtag_list:\n",
    "    count = 0\n",
    "    if word in unique_hashtags:\n",
    "        continue\n",
    "    else:\n",
    "        for w in hashtag_list:\n",
    "            if word == w:\n",
    "                count = count+1\n",
    "            else:\n",
    "                continue\n",
    "        unique_hashtags.append(word)\n",
    "        dict = {}\n",
    "        dict['hashtag'] = word\n",
    "        dict['count'] = count\n",
    "        hashtag_counts.append(dict)\n",
    "\n",
    "sorted_hashtags = sorted(hashtag_counts, key = lambda d: d['count'], reverse=True)"
   ]
  },
  {
   "cell_type": "code",
   "execution_count": 75,
   "id": "0c81d6bb",
   "metadata": {},
   "outputs": [
    {
     "name": "stdout",
     "output_type": "stream",
     "text": [
      "Hashtag: #LA Count 27\n",
      "Hashtag: #LosAngeles Count 16\n",
      "Hashtag: #stolen Count 13\n",
      "Hashtag: #HelpSamantha Count 13\n",
      "Hashtag: #HelpShareMyStory Count 13\n",
      "Hashtag: # Count 10\n",
      "Hashtag: #Repost Count 10\n",
      "Hashtag: #hollywood Count 9\n",
      "Hashtag: #Oscars Count 9\n",
      "Hashtag: #Stolen Count 7\n"
     ]
    }
   ],
   "source": [
    "#print the top 10 hashtags\n",
    "for hashtag in sorted_hashtags[:10]:\n",
    "    print('Hashtag:', hashtag['hashtag'], 'Count', hashtag['count'])"
   ]
  },
  {
   "cell_type": "markdown",
   "id": "b30744d9",
   "metadata": {},
   "source": [
    "## Understand the Text Content"
   ]
  },
  {
   "cell_type": "code",
   "execution_count": 76,
   "id": "484f327f",
   "metadata": {},
   "outputs": [
    {
     "data": {
      "text/plain": [
       "118744"
      ]
     },
     "execution_count": 76,
     "metadata": {},
     "output_type": "execute_result"
    }
   ],
   "source": [
    "import nltk\n",
    "msglist = tweets_df['Text']\n",
    "all_tokens = [tok for msg in msglist for tok in nltk.word_tokenize(msg)]\n",
    "len(all_tokens)"
   ]
  },
  {
   "cell_type": "code",
   "execution_count": 77,
   "id": "2365f1da",
   "metadata": {},
   "outputs": [
    {
     "data": {
      "text/plain": [
       "['🚨',\n",
       " 'WILSHIRE/FAIRFAX',\n",
       " 'AREA',\n",
       " '🚨',\n",
       " 'Some',\n",
       " 'random',\n",
       " 'man',\n",
       " 'stole',\n",
       " 'my',\n",
       " 'friends']"
      ]
     },
     "execution_count": 77,
     "metadata": {},
     "output_type": "execute_result"
    }
   ],
   "source": [
    "#first 10 tokens\n",
    "all_tokens[:10]"
   ]
  },
  {
   "cell_type": "code",
   "execution_count": 78,
   "id": "e302a002",
   "metadata": {},
   "outputs": [],
   "source": [
    "#make tokens all lowercase\n",
    "all_tokens = [tok.lower() for msg in msglist for tok in nltk.word_tokenize(msg)]"
   ]
  },
  {
   "cell_type": "code",
   "execution_count": 79,
   "id": "b2721533",
   "metadata": {},
   "outputs": [
    {
     "name": "stderr",
     "output_type": "stream",
     "text": [
      "[nltk_data] Downloading package stopwords to C:\\Users\\Samantha\n",
      "[nltk_data]     White\\AppData\\Roaming\\nltk_data...\n",
      "[nltk_data]   Package stopwords is already up-to-date!\n"
     ]
    },
    {
     "data": {
      "text/plain": [
       "True"
      ]
     },
     "execution_count": 79,
     "metadata": {},
     "output_type": "execute_result"
    }
   ],
   "source": [
    "import nltk\n",
    "nltk.download('stopwords')"
   ]
  },
  {
   "cell_type": "code",
   "execution_count": 80,
   "id": "e64d2aee",
   "metadata": {},
   "outputs": [],
   "source": [
    "#get a list of stopwords\n",
    "nltk_stopwords = nltk.corpus.stopwords.words('english')\n",
    "nltk_stopwords.append(\"'s\")\n",
    "nltk_stopwords.append(\"n't\")"
   ]
  },
  {
   "cell_type": "code",
   "execution_count": 81,
   "id": "491a9941",
   "metadata": {},
   "outputs": [
    {
     "data": {
      "text/plain": [
       "['wilshire/fairfax',\n",
       " 'area',\n",
       " 'random',\n",
       " 'man',\n",
       " 'stole',\n",
       " 'friends',\n",
       " 'dog',\n",
       " 'peddles',\n",
       " 'please',\n",
       " 'keep']"
      ]
     },
     "execution_count": 81,
     "metadata": {},
     "output_type": "execute_result"
    }
   ],
   "source": [
    "#remove stopwords from conversation and non keywords\n",
    "import re\n",
    "def alpha_filter(w):\n",
    "    pattern = re.compile('^[^a-z]+$') \n",
    "    if (pattern.match(w)): \n",
    "        return True\n",
    "    else:\n",
    "        return False\n",
    "\n",
    "t_list = [tok for tok in all_tokens if not alpha_filter(tok)]\n",
    "\n",
    "token_list = []\n",
    "for tok in t_list:\n",
    "    if tok in nltk_stopwords:\n",
    "        continue\n",
    "    else: \n",
    "        token_list.append(tok)\n",
    "token_list[:10]"
   ]
  },
  {
   "cell_type": "code",
   "execution_count": 82,
   "id": "293f8db5",
   "metadata": {},
   "outputs": [
    {
     "name": "stdout",
     "output_type": "stream",
     "text": [
      "stole: 3306 tweets\n",
      "https: 2231 tweets\n",
      "stolen: 1958 tweets\n",
      "someone: 404 tweets\n",
      "amp: 404 tweets\n",
      "car: 364 tweets\n",
      "got: 325 tweets\n",
      "like: 325 tweets\n",
      "one: 301 tweets\n",
      "get: 239 tweets\n"
     ]
    }
   ],
   "source": [
    "#find 10 most common words\n",
    "msgFD = nltk.FreqDist(token_list) \n",
    "top_words = msgFD.most_common(10) \n",
    "for word, freq in top_words: \n",
    "    print(word+\":\", freq, \"tweets\") "
   ]
  },
  {
   "cell_type": "markdown",
   "id": "ce54be36",
   "metadata": {},
   "source": [
    "### See spikes in conversation over time"
   ]
  },
  {
   "cell_type": "code",
   "execution_count": null,
   "id": "79373ec9",
   "metadata": {},
   "outputs": [],
   "source": [
    "tweets_df['Date'] = pd.to_datetime(tweets_df['Date']).dt.date"
   ]
  },
  {
   "cell_type": "code",
   "execution_count": 88,
   "id": "d2e49154",
   "metadata": {},
   "outputs": [],
   "source": [
    "tweets_bydate = pd.DataFrame(tweets_df.groupby('Date').size())"
   ]
  },
  {
   "cell_type": "code",
   "execution_count": 89,
   "id": "2fd0ce6a",
   "metadata": {},
   "outputs": [
    {
     "data": {
      "text/plain": [
       "<AxesSubplot:xlabel='Date'>"
      ]
     },
     "execution_count": 89,
     "metadata": {},
     "output_type": "execute_result"
    },
    {
     "data": {
      "image/png": "[encoded data removed]",
      "text/plain": [
       "<Figure size 432x288 with 1 Axes>"
      ]
     },
     "metadata": {
      "needs_background": "light"
     },
     "output_type": "display_data"
    }
   ],
   "source": [
    "tweets_bydate.plot.line()"
   ]
  },
  {
   "cell_type": "code",
   "execution_count": 95,
   "id": "5a037662",
   "metadata": {},
   "outputs": [
    {
     "data": {
      "text/html": [
       "<div>\n",
       "<style scoped>\n",
       "    .dataframe tbody tr th:only-of-type {\n",
       "        vertical-align: middle;\n",
       "    }\n",
       "\n",
       "    .dataframe tbody tr th {\n",
       "        vertical-align: top;\n",
       "    }\n",
       "\n",
       "    .dataframe thead th {\n",
       "        text-align: right;\n",
       "    }\n",
       "</style>\n",
       "<table border=\"1\" class=\"dataframe\">\n",
       "  <thead>\n",
       "    <tr style=\"text-align: right;\">\n",
       "      <th></th>\n",
       "      <th>Date</th>\n",
       "      <th>Tweet Id</th>\n",
       "      <th>Text</th>\n",
       "      <th>User</th>\n",
       "      <th>Likes</th>\n",
       "      <th>Retweets</th>\n",
       "    </tr>\n",
       "  </thead>\n",
       "  <tbody>\n",
       "    <tr>\n",
       "      <th>1035</th>\n",
       "      <td>2017-10-31</td>\n",
       "      <td>925510189612130305</td>\n",
       "      <td>Yes bitch I stole all your chocolate.</td>\n",
       "      <td>gomez_the_4th</td>\n",
       "      <td>0</td>\n",
       "      <td>0</td>\n",
       "    </tr>\n",
       "    <tr>\n",
       "      <th>1036</th>\n",
       "      <td>2017-10-31</td>\n",
       "      <td>925458396559523841</td>\n",
       "      <td>@PLASTICPIZZA he stole your idea... https://t....</td>\n",
       "      <td>Bmac</td>\n",
       "      <td>0</td>\n",
       "      <td>0</td>\n",
       "    </tr>\n",
       "    <tr>\n",
       "      <th>1037</th>\n",
       "      <td>2017-10-31</td>\n",
       "      <td>925438700884021248</td>\n",
       "      <td>Suspect in Stolen Sheriff’s SUV Surrenders aft...</td>\n",
       "      <td>FOX40</td>\n",
       "      <td>0</td>\n",
       "      <td>0</td>\n",
       "    </tr>\n",
       "    <tr>\n",
       "      <th>1038</th>\n",
       "      <td>2017-10-31</td>\n",
       "      <td>925398564276023296</td>\n",
       "      <td>I hope you don’t get ur candy stolen tonight b...</td>\n",
       "      <td>OfficialBradlee</td>\n",
       "      <td>680</td>\n",
       "      <td>69</td>\n",
       "    </tr>\n",
       "    <tr>\n",
       "      <th>1039</th>\n",
       "      <td>2017-10-31</td>\n",
       "      <td>925379249120329730</td>\n",
       "      <td>Why get the Left and Right mad about Clinton's...</td>\n",
       "      <td>seriousfun8309</td>\n",
       "      <td>0</td>\n",
       "      <td>0</td>\n",
       "    </tr>\n",
       "  </tbody>\n",
       "</table>\n",
       "</div>"
      ],
      "text/plain": [
       "            Date            Tweet Id  \\\n",
       "1035  2017-10-31  925510189612130305   \n",
       "1036  2017-10-31  925458396559523841   \n",
       "1037  2017-10-31  925438700884021248   \n",
       "1038  2017-10-31  925398564276023296   \n",
       "1039  2017-10-31  925379249120329730   \n",
       "\n",
       "                                                   Text             User  \\\n",
       "1035              Yes bitch I stole all your chocolate.    gomez_the_4th   \n",
       "1036  @PLASTICPIZZA he stole your idea... https://t....             Bmac   \n",
       "1037  Suspect in Stolen Sheriff’s SUV Surrenders aft...            FOX40   \n",
       "1038  I hope you don’t get ur candy stolen tonight b...  OfficialBradlee   \n",
       "1039  Why get the Left and Right mad about Clinton's...   seriousfun8309   \n",
       "\n",
       "      Likes  Retweets  \n",
       "1035      0         0  \n",
       "1036      0         0  \n",
       "1037      0         0  \n",
       "1038    680        69  \n",
       "1039      0         0  "
      ]
     },
     "execution_count": 95,
     "metadata": {},
     "output_type": "execute_result"
    }
   ],
   "source": [
    "import datetime\n",
    "october1 = datetime.date(2017, 10, 1)\n",
    "november1 = datetime.date(2017, 11, 1)\n",
    "\n",
    "october_tweets = tweets_df.loc[(tweets_df['Date'] >= october1) & (tweets_df['Date'] < november1)]\n",
    "october_tweets.head()"
   ]
  },
  {
   "cell_type": "code",
   "execution_count": 113,
   "id": "6bb8cad6",
   "metadata": {},
   "outputs": [
    {
     "name": "stdout",
     "output_type": "stream",
     "text": [
      "Message: Growing up, my biggest dream was to be photographed for GQ. Hahahahahhaaaa NOT. I stole someone else's dream Lolz! #GQ #ThorRagnarok https://t.co/GSBGnkQE6T\n",
      "Likes: 18171\n",
      " \n",
      "Message: Tell me why my postmates guy cancelled my order when it was on the way... dude straight up stole my food lol... wtf\n",
      "Likes: 4010\n",
      " \n",
      "Message: $5000 TO ANYONE THAT FINDS MY LAPTOPS, HARD DRIVES, PHONE OR ANYTHING ELSE STOLEN. EMAIL - WillSingesShit@gmail.com\n",
      "Likes: 2748\n",
      " \n",
      "Message: I Can't Cap I Stole $20 Out My Bitch Purse Just To Feel Like One Of Those Cute Ain't Shit Niggas.\n",
      "\n",
      "I'll Return It Eventually but It Felt Good.\n",
      "Likes: 2627\n",
      " \n"
     ]
    }
   ],
   "source": [
    "#what were the 5 tweets with the most likes in October\n",
    "most_liked = tweets_df.sort_values(by=['Likes'], ascending=False).head()\n",
    "msgs = most_liked['Text']\n",
    "msg_list = []\n",
    "for message in msgs:\n",
    "    msg_list.append(message)\n",
    "likes = most_liked['Likes']\n",
    "like_list = []\n",
    "for l in likes:\n",
    "    like_list.append(l)\n",
    "\n",
    "for i in range(4):\n",
    "    print('Message:', msg_list[i])\n",
    "    print('Likes:', like_list[i])\n",
    "    print(' ')"
   ]
  },
  {
   "cell_type": "markdown",
   "id": "6da03bf0",
   "metadata": {},
   "source": [
    "### Understand the car conversation\n",
    "Car conversation"
   ]
  },
  {
   "cell_type": "code",
   "execution_count": null,
   "id": "7a423eb4",
   "metadata": {},
   "outputs": [],
   "source": []
  }
 ],
 "metadata": {
  "kernelspec": {
   "display_name": "Python 3 (ipykernel)",
   "language": "python",
   "name": "python3"
  },
  "language_info": {
   "codemirror_mode": {
    "name": "ipython",
    "version": 3
   },
   "file_extension": ".py",
   "mimetype": "text/x-python",
   "name": "python",
   "nbconvert_exporter": "python",
   "pygments_lexer": "ipython3",
   "version": "3.9.7"
  }
 },
 "nbformat": 4,
 "nbformat_minor": 5
}
